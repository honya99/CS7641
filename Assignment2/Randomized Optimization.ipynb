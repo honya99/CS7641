{
 "cells": [
  {
   "cell_type": "markdown",
   "id": "379605e2",
   "metadata": {},
   "source": [
    "### Importing Libraries"
   ]
  },
  {
   "cell_type": "code",
   "execution_count": 1,
   "id": "6b8cf0c8",
   "metadata": {},
   "outputs": [],
   "source": [
    "import random\n",
    "import seaborn as sns\n",
    "import matplotlib.pyplot as plt\n",
    "from sklearn.preprocessing import StandardScaler\n",
    "import six\n",
    "import sys\n",
    "sys.modules['sklearn.externals.six'] = six\n",
    "import mlrose\n",
    "import pandas as pd\n",
    "import numpy as np"
   ]
  },
  {
   "cell_type": "markdown",
   "id": "f99519a8",
   "metadata": {},
   "source": [
    "# Randomized Hill Climbing"
   ]
  },
  {
   "cell_type": "markdown",
   "id": "2237632e",
   "metadata": {},
   "source": [
    "### k-color for Randomized Hill Climbing"
   ]
  },
  {
   "cell_type": "code",
   "execution_count": 2,
   "id": "c139b78b",
   "metadata": {},
   "outputs": [],
   "source": [
    "def k_color_fitness(state, graph):\n",
    "    \"\"\"\n",
    "    Calculate the fitness of the given state for the k-color problem.\n",
    "    \n",
    "    Args:\n",
    "    - state (list): A list representing the state to evaluate. Each element represents\n",
    "                    the color assigned to the corresponding node in the graph.\n",
    "    - graph (list of sets): A list of sets representing the graph. Each set contains the\n",
    "                            neighbors of a node in the graph.\n",
    "                            \n",
    "    Returns:\n",
    "    - The fitness value of the state, which is the number of nodes in the graph that do not\n",
    "      have the same color as all of their neighbors.\n",
    "    \"\"\"\n",
    "    fitness = 0\n",
    "    for node, neighbors in enumerate(graph):\n",
    "        if all(state[neighbor] != state[node] for neighbor in neighbors):\n",
    "            fitness += 1\n",
    "    return fitness\n",
    "\n",
    "def random_neighbor(state):\n",
    "    \"\"\"\n",
    "    Generate a random neighbor of the given state for the k-color problem.\n",
    "    Args:\n",
    "    - state (list): A list representing the state to generate a neighbor for.\n",
    "    \n",
    "    Returns:\n",
    "    - A new list representing a random neighbor of the given state. The new state\n",
    "      differs from the given state in exactly one element.\n",
    "    \"\"\"\n",
    "    neighbor = state.copy()\n",
    "    idx = random.randint(0, len(state) - 1)\n",
    "    colors = set(range(1, k+1)) - {neighbor[idx]}\n",
    "    neighbor[idx] = random.choice(list(colors))\n",
    "    return neighbor\n",
    "\n",
    "def randomized_hill_climbing_k_color(k, graph, max_iter=10000):\n",
    "    \"\"\"\n",
    "    Use randomized hill climbing to solve the k-color problem.\n",
    "    \n",
    "    Args:\n",
    "    - k (int): The number of colors to use for the k-color problem.\n",
    "    - graph (list of sets): A list of sets representing the graph. Each set contains the\n",
    "                            neighbors of a node in the graph.\n",
    "    - max_iter (int): The maximum number of iterations to perform before giving up.\n",
    "    \n",
    "    Returns:\n",
    "    - A tuple containing the best state found and its fitness value.\n",
    "    \"\"\"\n",
    "    current = [random.randint(1, k) for _ in range(len(graph))]\n",
    "    fitness = k_color_fitness(current, graph)\n",
    "    for i in range(max_iter):\n",
    "        neighbor = random_neighbor(current)\n",
    "        neighbor_fitness = k_color_fitness(neighbor, graph)\n",
    "        if neighbor_fitness > fitness:\n",
    "            current = neighbor\n",
    "            fitness = neighbor_fitness\n",
    "    return current, fitness\n",
    "\n"
   ]
  },
  {
   "cell_type": "code",
   "execution_count": 3,
   "id": "be4dda7c",
   "metadata": {},
   "outputs": [
    {
     "name": "stdout",
     "output_type": "stream",
     "text": [
      "Best state found: [1, 2, 3, 1, 2, 2]\n",
      "Best fitness found: 4\n"
     ]
    }
   ],
   "source": [
    "# Test the algorithm on a simple k-color problem with 5 nodes and 3 colors\n",
    "k = 3\n",
    "graph = [\n",
    "    {0, 2},\n",
    "    {0, 2, 3},\n",
    "    {0, 1, 4},\n",
    "    {1, 4},\n",
    "    {2, 3},\n",
    "    {0,1,2,3,4,5}\n",
    "]\n",
    "\n",
    "best_state, best_fitness = randomized_hill_climbing_k_color(k, graph)\n",
    "print(\"Best state found:\", best_state)\n",
    "print(\"Best fitness found:\", best_fitness)\n"
   ]
  },
  {
   "cell_type": "code",
   "execution_count": 4,
   "id": "f52d575b",
   "metadata": {},
   "outputs": [
    {
     "name": "stdout",
     "output_type": "stream",
     "text": [
      "Total Number of Nodes  4  with  3  colors\n",
      "Best state found: [3, 1, 1, 3]\n",
      "Best fitness found: 2\n",
      "\n",
      "Total Number of Nodes  14  with  3  colors\n",
      "Best state found: [2, 3, 2, 3, 3, 1, 2, 3, 3, 2, 1, 1, 3, 3]\n",
      "Best fitness found: 3\n",
      "\n",
      "Total Number of Nodes  24  with  3  colors\n",
      "Best state found: [2, 1, 2, 3, 1, 1, 2, 2, 1, 3, 1, 1, 1, 1, 2, 3, 3, 3, 2, 3, 3, 3, 3, 3]\n",
      "Best fitness found: 6\n",
      "\n",
      "Total Number of Nodes  34  with  3  colors\n",
      "Best state found: [1, 3, 2, 3, 1, 2, 2, 2, 1, 2, 3, 1, 3, 3, 2, 2, 2, 3, 2, 1, 1, 2, 3, 2, 2, 1, 3, 1, 1, 1, 2, 3, 1, 2]\n",
      "Best fitness found: 9\n",
      "\n",
      "Total Number of Nodes  44  with  3  colors\n",
      "Best state found: [3, 3, 1, 3, 3, 2, 1, 2, 2, 1, 3, 2, 3, 1, 1, 2, 2, 2, 2, 1, 2, 1, 3, 3, 1, 1, 2, 3, 1, 3, 2, 3, 2, 3, 3, 1, 3, 2, 1, 2, 1, 3, 2, 3]\n",
      "Best fitness found: 7\n",
      "\n",
      "Total Number of Nodes  54  with  3  colors\n",
      "Best state found: [1, 3, 2, 3, 3, 3, 2, 1, 1, 3, 3, 1, 3, 2, 3, 3, 3, 3, 1, 3, 3, 1, 2, 2, 3, 1, 3, 2, 2, 3, 3, 2, 1, 2, 3, 2, 1, 2, 3, 2, 2, 1, 1, 2, 3, 2, 3, 2, 1, 1, 3, 1, 3, 3]\n",
      "Best fitness found: 4\n",
      "\n",
      "Total Number of Nodes  64  with  3  colors\n",
      "Best state found: [3, 3, 1, 1, 3, 1, 2, 2, 2, 1, 1, 1, 3, 1, 2, 1, 1, 2, 2, 1, 3, 3, 3, 2, 2, 1, 1, 2, 1, 1, 1, 1, 1, 2, 2, 3, 2, 1, 3, 1, 3, 3, 2, 2, 3, 2, 3, 2, 2, 3, 1, 3, 3, 1, 2, 2, 2, 3, 1, 1, 1, 3, 1, 3]\n",
      "Best fitness found: 5\n",
      "\n",
      "Total Number of Nodes  74  with  3  colors\n",
      "Best state found: [2, 3, 1, 3, 2, 2, 2, 3, 3, 1, 3, 1, 3, 1, 2, 3, 2, 2, 2, 2, 1, 1, 2, 2, 2, 3, 1, 3, 2, 3, 3, 2, 1, 2, 3, 3, 3, 3, 2, 3, 1, 2, 3, 2, 1, 3, 3, 1, 3, 2, 3, 3, 1, 1, 3, 3, 1, 3, 2, 1, 1, 1, 2, 3, 3, 1, 2, 3, 2, 1, 2, 1, 2, 1]\n",
      "Best fitness found: 6\n",
      "\n",
      "Total Number of Nodes  84  with  3  colors\n",
      "Best state found: [2, 1, 2, 2, 3, 2, 3, 2, 1, 2, 1, 2, 3, 1, 3, 2, 1, 2, 2, 2, 1, 2, 3, 2, 2, 1, 2, 3, 3, 1, 1, 1, 2, 3, 2, 3, 1, 2, 3, 2, 3, 3, 1, 3, 2, 2, 1, 3, 1, 3, 2, 2, 2, 2, 1, 1, 2, 2, 3, 2, 3, 3, 2, 2, 1, 1, 3, 3, 3, 3, 2, 1, 2, 3, 1, 3, 1, 3, 3, 3, 3, 2, 1, 3]\n",
      "Best fitness found: 8\n",
      "\n",
      "Total Number of Nodes  94  with  3  colors\n",
      "Best state found: [1, 1, 2, 2, 2, 1, 1, 1, 3, 2, 3, 2, 3, 1, 1, 2, 1, 3, 3, 3, 2, 1, 2, 3, 3, 2, 3, 2, 1, 2, 1, 2, 2, 2, 3, 2, 2, 2, 3, 3, 2, 3, 3, 2, 2, 2, 1, 2, 3, 1, 3, 1, 3, 3, 2, 2, 2, 1, 3, 1, 3, 3, 2, 3, 2, 3, 3, 1, 3, 3, 1, 2, 2, 3, 2, 3, 1, 2, 2, 2, 3, 2, 2, 3, 1, 2, 2, 2, 1, 2, 1, 2, 2, 2]\n",
      "Best fitness found: 12\n",
      "\n"
     ]
    }
   ],
   "source": [
    "\n",
    "fitness_nodes=[]\n",
    "k = 3\n",
    "for total_nodes in range(4,100,10):\n",
    "    graph=[]\n",
    "    print(\"Total Number of Nodes \", total_nodes,\" with \",k,\" colors\"  )\n",
    "    for i in range(total_nodes):\n",
    "        random_int=np.random.randint(1,total_nodes)\n",
    "        nodes=np.random.choice( range(total_nodes), random_int ,replace=False )\n",
    "        graph.append(nodes)\n",
    "        \n",
    "    best_state, best_fitness = randomized_hill_climbing_k_color(k, graph)\n",
    "    print(\"Best state found:\", best_state)\n",
    "    print(\"Best fitness found:\", best_fitness)\n",
    "    fitness_nodes.append([best_fitness,total_nodes])\n",
    "    print()\n",
    "    \n",
    "fitness_nodes=np.array(fitness_nodes)"
   ]
  },
  {
   "cell_type": "markdown",
   "id": "06ad933b",
   "metadata": {},
   "source": [
    "## Total Nodes vs Fitness with K=3 colors "
   ]
  },
  {
   "cell_type": "code",
   "execution_count": 5,
   "id": "c9f8bf97",
   "metadata": {},
   "outputs": [
    {
     "data": {
      "image/png": "[encoded data removed]",
      "text/plain": [
       "<Figure size 576x432 with 1 Axes>"
      ]
     },
     "metadata": {
      "needs_background": "light"
     },
     "output_type": "display_data"
    }
   ],
   "source": [
    "plt.figure(figsize=(8, 6))\n",
    "\n",
    "sns.lineplot(x=fitness_nodes[:,1], y=fitness_nodes[:,0])\n",
    "\n",
    "# Set plot title and axis labels\n",
    "plt.title('Total Nodes vs Fitness with K=3  colors')\n",
    "plt.xlabel('Total Nodes')\n",
    "plt.ylabel('Fitness')\n",
    "\n",
    "# Display plot\n",
    "plt.show()"
   ]
  },
  {
   "cell_type": "markdown",
   "id": "d46084bf",
   "metadata": {},
   "source": [
    "## Total Nodes vs Fitness with K=10 colors "
   ]
  },
  {
   "cell_type": "code",
   "execution_count": 6,
   "id": "bcc7aee5",
   "metadata": {},
   "outputs": [
    {
     "name": "stdout",
     "output_type": "stream",
     "text": [
      "Total Number of Nodes  4  with  10  colors\n",
      "Best fitness found: 2\n",
      "\n",
      "Total Number of Nodes  14  with  10  colors\n",
      "Best fitness found: 9\n",
      "\n",
      "Total Number of Nodes  24  with  10  colors\n",
      "Best fitness found: 11\n",
      "\n",
      "Total Number of Nodes  34  with  10  colors\n",
      "Best fitness found: 11\n",
      "\n",
      "Total Number of Nodes  44  with  10  colors\n",
      "Best fitness found: 15\n",
      "\n",
      "Total Number of Nodes  54  with  10  colors\n",
      "Best fitness found: 22\n",
      "\n",
      "Total Number of Nodes  64  with  10  colors\n",
      "Best fitness found: 18\n",
      "\n",
      "Total Number of Nodes  74  with  10  colors\n",
      "Best fitness found: 27\n",
      "\n",
      "Total Number of Nodes  84  with  10  colors\n",
      "Best fitness found: 27\n",
      "\n",
      "Total Number of Nodes  94  with  10  colors\n",
      "Best fitness found: 28\n",
      "\n"
     ]
    }
   ],
   "source": [
    "\n",
    "fitness_nodes=[]\n",
    "k = 10\n",
    "for total_nodes in range(4,100,10):\n",
    "    graph=[]\n",
    "    print(\"Total Number of Nodes \", total_nodes,\" with \",k,\" colors\"  )\n",
    "    for i in range(total_nodes):\n",
    "        random_int=np.random.randint(1,total_nodes)\n",
    "        nodes=np.random.choice( range(total_nodes), random_int ,replace=False )\n",
    "        graph.append(nodes)\n",
    "        \n",
    "    best_state, best_fitness = randomized_hill_climbing_k_color(k, graph)\n",
    "    #print(\"Best state found:\", best_state)\n",
    "    print(\"Best fitness found:\", best_fitness)\n",
    "    fitness_nodes.append([best_fitness,total_nodes])\n",
    "    print()\n",
    "    \n",
    "fitness_nodes=np.array(fitness_nodes)"
   ]
  },
  {
   "cell_type": "code",
   "execution_count": 7,
   "id": "03f8feef",
   "metadata": {},
   "outputs": [
    {
     "data": {
      "image/png": "[encoded data removed]",
      "text/plain": [
       "<Figure size 576x432 with 1 Axes>"
      ]
     },
     "metadata": {
      "needs_background": "light"
     },
     "output_type": "display_data"
    }
   ],
   "source": [
    "plt.figure(figsize=(8, 6))\n",
    "\n",
    "sns.lineplot(x=fitness_nodes[:,1], y=fitness_nodes[:,0])\n",
    "\n",
    "# Set plot title and axis labels\n",
    "plt.title('Total Nodes vs Fitness with K=10  colors')\n",
    "plt.xlabel('Total Nodes')\n",
    "plt.ylabel('Fitness')\n",
    "\n",
    "# Display plot\n",
    "plt.show()"
   ]
  },
  {
   "cell_type": "markdown",
   "id": "f91d4bd1",
   "metadata": {},
   "source": [
    "## Total Nodes vs Fitness with K=20 colors "
   ]
  },
  {
   "cell_type": "code",
   "execution_count": 8,
   "id": "98271c03",
   "metadata": {},
   "outputs": [
    {
     "name": "stdout",
     "output_type": "stream",
     "text": [
      "Total Number of Nodes  4  with  20  colors\n",
      "Best fitness found: 3\n",
      "\n",
      "Total Number of Nodes  14  with  20  colors\n",
      "Best fitness found: 6\n",
      "\n",
      "Total Number of Nodes  24  with  20  colors\n",
      "Best fitness found: 13\n",
      "\n",
      "Total Number of Nodes  34  with  20  colors\n",
      "Best fitness found: 16\n",
      "\n",
      "Total Number of Nodes  44  with  20  colors\n",
      "Best fitness found: 31\n",
      "\n",
      "Total Number of Nodes  54  with  20  colors\n",
      "Best fitness found: 24\n",
      "\n",
      "Total Number of Nodes  64  with  20  colors\n",
      "Best fitness found: 31\n",
      "\n",
      "Total Number of Nodes  74  with  20  colors\n",
      "Best fitness found: 32\n",
      "\n",
      "Total Number of Nodes  84  with  20  colors\n",
      "Best fitness found: 35\n",
      "\n",
      "Total Number of Nodes  94  with  20  colors\n",
      "Best fitness found: 38\n",
      "\n"
     ]
    }
   ],
   "source": [
    "\n",
    "fitness_nodes=[]\n",
    "k = 20\n",
    "for total_nodes in range(4,100,10):\n",
    "    graph=[]\n",
    "    print(\"Total Number of Nodes \", total_nodes,\" with \",k,\" colors\"  )\n",
    "    for i in range(total_nodes):\n",
    "        random_int=np.random.randint(1,total_nodes)\n",
    "        nodes=np.random.choice( range(total_nodes), random_int ,replace=False )\n",
    "        graph.append(nodes)\n",
    "        \n",
    "    best_state, best_fitness = randomized_hill_climbing_k_color(k, graph)\n",
    "    #print(\"Best state found:\", best_state)\n",
    "    print(\"Best fitness found:\", best_fitness)\n",
    "    fitness_nodes.append([best_fitness,total_nodes])\n",
    "    print()\n",
    "    \n",
    "fitness_nodes=np.array(fitness_nodes)"
   ]
  },
  {
   "cell_type": "code",
   "execution_count": 9,
   "id": "c056dd9c",
   "metadata": {},
   "outputs": [
    {
     "data": {
      "image/png": "[encoded data removed]",
      "text/plain": [
       "<Figure size 576x432 with 1 Axes>"
      ]
     },
     "metadata": {
      "needs_background": "light"
     },
     "output_type": "display_data"
    }
   ],
   "source": [
    "plt.figure(figsize=(8, 6))\n",
    "sns.lineplot(x=fitness_nodes[:,1], y=fitness_nodes[:,0])\n",
    "# Set plot title and axis labels\n",
    "plt.title('Total Nodes vs Fitness with K=20  colors')\n",
    "plt.xlabel('Total Nodes')\n",
    "plt.ylabel('Fitness')\n",
    "# Display plot\n",
    "plt.show()"
   ]
  },
  {
   "cell_type": "markdown",
   "id": "d91a8796",
   "metadata": {},
   "source": [
    "## 4-peaks in randomized hill climbing"
   ]
  },
  {
   "cell_type": "code",
   "execution_count": 10,
   "id": "ecd6e738",
   "metadata": {},
   "outputs": [],
   "source": [
    "import random\n",
    "\n",
    "# function to calculate the fitness value of the bit string\n",
    "def calculate_fitness(bit_string):\n",
    "    n = len(bit_string)\n",
    "    leading_zeros = 0\n",
    "    trailing_ones = 0\n",
    "\n",
    "    for i in range(n):\n",
    "        if bit_string[i] == '0':\n",
    "            leading_zeros += 1\n",
    "        else:\n",
    "            break\n",
    "\n",
    "    for i in range(n-1, -1, -1):\n",
    "        if bit_string[i] == '1':\n",
    "            trailing_ones += 1\n",
    "        else:\n",
    "            break\n",
    "\n",
    "    if leading_zeros == n:\n",
    "        return n\n",
    "    elif trailing_ones == n:\n",
    "        return n\n",
    "    else:\n",
    "        return max(leading_zeros, trailing_ones)\n",
    "\n",
    "# function to generate random bit string of given length\n",
    "def generate_bit_string(length):\n",
    "    return [random.choice(['0', '1']) for _ in range(length)]\n",
    "\n",
    "# function to generate a neighbor of the given bit string by flipping a random bit\n",
    "def generate_neighbor(bit_string):\n",
    "    neighbor = bit_string.copy()\n",
    "    index = random.randint(0, len(bit_string) - 1)\n",
    "    neighbor[index] = '1' if neighbor[index] == '0' else '0'\n",
    "    return neighbor\n",
    "\n",
    "# implementation of randomized hill climbing on the 4-peaks optimization problem\n",
    "def randomized_hill_climbing_4peaks(length):\n",
    "    # generate initial random bit string\n",
    "    current = generate_bit_string(length)\n",
    "    # evaluate the fitness of initial bit string\n",
    "    current_fitness = calculate_fitness(current)\n",
    "\n",
    "    # loop until max fitness is achieved or max iterations are reached\n",
    "    max_fitness = length\n",
    "    iterations = 0\n",
    "    while current_fitness < max_fitness and iterations < 1000:\n",
    "        # generate a random neighbor of the current bit string\n",
    "        neighbor = generate_neighbor(current)\n",
    "        # evaluate the fitness of the neighbor\n",
    "        neighbor_fitness = calculate_fitness(neighbor)\n",
    "\n",
    "        # if neighbor has higher fitness, update current bit string\n",
    "        if neighbor_fitness > current_fitness:\n",
    "            current = neighbor\n",
    "            current_fitness = neighbor_fitness\n",
    "\n",
    "        iterations += 1\n",
    "\n",
    "    return current, current_fitness\n",
    "\n"
   ]
  },
  {
   "cell_type": "markdown",
   "id": "9db4fac8",
   "metadata": {},
   "source": [
    "### Testing the randomized hill climbing algorithm on the 4-peaks optimization problem"
   ]
  },
  {
   "cell_type": "code",
   "execution_count": 11,
   "id": "0da0a652",
   "metadata": {},
   "outputs": [
    {
     "name": "stdout",
     "output_type": "stream",
     "text": [
      "Optimal Bit String:  ['1', '1', '0', '1', '1', '1', '1', '1', '1', '1', '1', '1', '1', '1', '1', '1', '1', '1', '1', '1', '1', '1', '1', '1', '1', '1', '1', '1', '1', '1', '1', '1', '1', '1', '1', '1', '1', '1', '1', '1', '1', '1', '1', '1', '1', '1', '1', '1', '1', '1']\n",
      "Fitness:  47\n"
     ]
    }
   ],
   "source": [
    "# testing the randomized hill climbing algorithm on the 4-peaks optimization problem\n",
    "bit_string_length = 50\n",
    "bit_string, fitness = randomized_hill_climbing_4peaks(bit_string_length)\n",
    "print(\"Optimal Bit String: \", bit_string)\n",
    "print(\"Fitness: \", fitness)"
   ]
  },
  {
   "cell_type": "markdown",
   "id": "722e7dda",
   "metadata": {},
   "source": [
    "### 4-peaks optimization problem: Fitness vs  Bit Length"
   ]
  },
  {
   "cell_type": "code",
   "execution_count": 12,
   "id": "83748b37",
   "metadata": {},
   "outputs": [
    {
     "name": "stdout",
     "output_type": "stream",
     "text": [
      "Fitness:  5\n",
      "\n",
      "Fitness:  15\n",
      "\n",
      "Fitness:  25\n",
      "\n",
      "Fitness:  35\n",
      "\n",
      "Fitness:  45\n",
      "\n",
      "Fitness:  36\n",
      "\n",
      "Fitness:  15\n",
      "\n",
      "Fitness:  43\n",
      "\n",
      "Fitness:  36\n",
      "\n",
      "Fitness:  25\n",
      "\n"
     ]
    }
   ],
   "source": [
    "total_fitness=[]\n",
    "\n",
    "for bit_string_length in range(5,100,10):\n",
    "    \n",
    "    bit_string, fitness = randomized_hill_climbing_4peaks(bit_string_length)\n",
    "    total_fitness.append([bit_string_length,fitness])\n",
    "    #print(\"Optimal Bit String: \", bit_string)\n",
    "    print(\"Fitness: \", fitness)\n",
    "    print()\n",
    "    \n",
    "total_fitness=np.array(total_fitness)"
   ]
  },
  {
   "cell_type": "code",
   "execution_count": 13,
   "id": "3b9c08e9",
   "metadata": {},
   "outputs": [
    {
     "data": {
      "image/png": "[encoded data removed]",
      "text/plain": [
       "<Figure size 576x432 with 1 Axes>"
      ]
     },
     "metadata": {
      "needs_background": "light"
     },
     "output_type": "display_data"
    }
   ],
   "source": [
    "plt.figure(figsize=(8, 6))\n",
    "sns.lineplot(x=total_fitness[:,0], y=total_fitness[:,1])\n",
    "# Set plot title and axis labels\n",
    "plt.title('Total Bit Length vs Fitness ')\n",
    "plt.xlabel('Total Bit Length')\n",
    "plt.ylabel('Fitness')\n",
    "# Display plot\n",
    "plt.show()"
   ]
  },
  {
   "cell_type": "markdown",
   "id": "5519582c",
   "metadata": {},
   "source": [
    "## One Max vs Deceptive One Max vs Trap"
   ]
  },
  {
   "cell_type": "code",
   "execution_count": 14,
   "id": "a9acad61",
   "metadata": {},
   "outputs": [
    {
     "name": "stdout",
     "output_type": "stream",
     "text": [
      "Example problem 1: One Max\n",
      "Solution: [1, 1, 1, 1, 1, 1, 1, 1, 1, 1, 1, 1, 1, 1, 1, 1, 1, 1, 1, 1, 1, 1, 1, 1, 1, 1, 1, 1, 1, 1, 1, 1, 1, 1, 1, 1, 1, 1, 1, 1, 1, 1, 1, 1, 1, 1, 1, 1, 1, 1]\n",
      "Fitness: 50\n",
      "Example problem 2: Deceptive One Max\n",
      "Solution: [1, 1, 1, 1, 1, 1, 1, 1, 1, 1, 1, 1, 1, 1, 1, 0, 1, 1, 1, 1, 1, 1, 1, 1, 1, 1, 1, 1, 1, 1, 1, 1, 1, 1, 1, 1, 1, 1, 1, 1, 1, 1, 1, 1, 1, 1, 1, 1, 1, 1]\n",
      "Fitness: 49\n",
      "Example problem 3: Trap\n",
      "Solution: [1, 1, 1, 1, 1, 0, 0, 0, 0, 0, 0, 0, 0, 0, 0, 0, 0, 0, 0, 0, 0, 0, 0, 0, 0, 0, 0, 0, 0, 0, 0, 0, 0, 0, 0, 1, 1, 1, 1, 1, 0, 0, 0, 0, 0, 0, 0, 0, 0, 0]\n",
      "Fitness: 42\n"
     ]
    }
   ],
   "source": [
    "\n",
    "\n",
    "# Implementation of the Randomized Hill Climbing algorithm\n",
    "def randomized_hill_climbing(max_iterations, problem_size, objective_function):\n",
    "    # Initialize the current solution to a random bit string\n",
    "    current_solution = [random.randint(0, 1) for _ in range(problem_size)]\n",
    "    \n",
    "    # Loop until max_iterations or until we find the optimal solution\n",
    "    for i in range(max_iterations):\n",
    "        # Evaluate the objective function for the current solution\n",
    "        current_fitness = objective_function(current_solution)\n",
    "        \n",
    "        # Generate a random neighbor by flipping a random bit\n",
    "        neighbor = current_solution.copy()\n",
    "        bit_to_flip = random.randint(0, problem_size-1)\n",
    "        neighbor[bit_to_flip] = 1 - neighbor[bit_to_flip]\n",
    "        \n",
    "        # Evaluate the objective function for the neighbor\n",
    "        neighbor_fitness = objective_function(neighbor)\n",
    "        \n",
    "        # If the neighbor has a better fitness, move to the neighbor\n",
    "        if neighbor_fitness > current_fitness:\n",
    "            current_solution = neighbor\n",
    "        \n",
    "        # If we have found the optimal solution, stop searching\n",
    "        if current_fitness == problem_size:\n",
    "            break\n",
    "    \n",
    "    # Return the best solution found\n",
    "    return current_solution\n",
    "\n",
    "# Example problem 1: One Max\n",
    "def one_max(bit_string):\n",
    "    return sum(bit_string)\n",
    "\n",
    "# Example problem 2: Deceptive One Max\n",
    "def deceptive_one_max(bit_string):\n",
    "    fitness = sum(bit_string)\n",
    "    if fitness == len(bit_string):\n",
    "        fitness = -1\n",
    "    return fitness\n",
    "\n",
    "# Example problem 3: Trap\n",
    "def trap(bit_string, block_size=5):\n",
    "    fitness = 0\n",
    "    for i in range(0, len(bit_string), block_size):\n",
    "        block = bit_string[i:i+block_size]\n",
    "        if sum(block) == block_size:\n",
    "            fitness += block_size\n",
    "        else:\n",
    "            fitness += block_size - sum(block) - 1\n",
    "    return fitness\n",
    "\n",
    "# Example usage\n",
    "if __name__ == '__main__':\n",
    "    max_iterations = 1000\n",
    "    problem_size = 50\n",
    "    \n",
    "    # Example problem 1: One Max\n",
    "    print('Example problem 1: One Max')\n",
    "    solution = randomized_hill_climbing(max_iterations, problem_size, one_max)\n",
    "    print('Solution:', solution)\n",
    "    print('Fitness:', one_max(solution))\n",
    "    \n",
    "    # Example problem 2: Deceptive One Max\n",
    "    print('Example problem 2: Deceptive One Max')\n",
    "    solution = randomized_hill_climbing(max_iterations, problem_size, deceptive_one_max)\n",
    "    print('Solution:', solution)\n",
    "    print('Fitness:', deceptive_one_max(solution))\n",
    "    \n",
    "    # Example problem 3: Trap\n",
    "    print('Example problem 3: Trap')\n",
    "    solution = randomized_hill_climbing(max_iterations, problem_size, lambda x: trap(x, 5))\n",
    "    print('Solution:', solution)\n",
    "    print('Fitness:', trap(solution, 5))\n"
   ]
  },
  {
   "cell_type": "code",
   "execution_count": 15,
   "id": "7362514d",
   "metadata": {},
   "outputs": [
    {
     "data": {
      "text/plain": [
       "(1000, 50, <function __main__.one_max(bit_string)>)"
      ]
     },
     "execution_count": 15,
     "metadata": {},
     "output_type": "execute_result"
    }
   ],
   "source": [
    "max_iterations, problem_size, one_max"
   ]
  },
  {
   "cell_type": "code",
   "execution_count": 16,
   "id": "ad1ded1c",
   "metadata": {},
   "outputs": [
    {
     "name": "stdout",
     "output_type": "stream",
     "text": [
      "Problem_size 100\n",
      "\n",
      "problem 1: One Max\n",
      "Fitness: 100\n",
      "problem 2: Deceptive One Max\n",
      "Fitness: 99\n",
      "problem 3: Trap\n",
      "Fitness: 80\n",
      "\n",
      "\n",
      "\n",
      "Problem_size 600\n",
      "\n",
      "problem 1: One Max\n",
      "Fitness: 551\n",
      "problem 2: Deceptive One Max\n",
      "Fitness: 543\n",
      "problem 3: Trap\n",
      "Fitness: 447\n",
      "\n",
      "\n",
      "\n",
      "Problem_size 1100\n",
      "\n",
      "problem 1: One Max\n",
      "Fitness: 874\n",
      "problem 2: Deceptive One Max\n",
      "Fitness: 875\n",
      "problem 3: Trap\n",
      "Fitness: 688\n",
      "\n",
      "\n",
      "\n",
      "Problem_size 1600\n",
      "\n",
      "problem 1: One Max\n",
      "Fitness: 1158\n",
      "problem 2: Deceptive One Max\n",
      "Fitness: 1179\n",
      "problem 3: Trap\n",
      "Fitness: 939\n",
      "\n",
      "\n",
      "\n",
      "Problem_size 2100\n",
      "\n",
      "problem 1: One Max\n",
      "Fitness: 1439\n",
      "problem 2: Deceptive One Max\n",
      "Fitness: 1489\n",
      "problem 3: Trap\n",
      "Fitness: 1109\n",
      "\n",
      "\n",
      "\n",
      "Problem_size 2600\n",
      "\n",
      "problem 1: One Max\n",
      "Fitness: 1728\n",
      "problem 2: Deceptive One Max\n",
      "Fitness: 1723\n",
      "problem 3: Trap\n",
      "Fitness: 1291\n",
      "\n",
      "\n",
      "\n",
      "Problem_size 3100\n",
      "\n",
      "problem 1: One Max\n",
      "Fitness: 1982\n",
      "problem 2: Deceptive One Max\n",
      "Fitness: 1956\n",
      "problem 3: Trap\n",
      "Fitness: 1499\n",
      "\n",
      "\n",
      "\n",
      "Problem_size 3600\n",
      "\n",
      "problem 1: One Max\n",
      "Fitness: 2208\n",
      "problem 2: Deceptive One Max\n",
      "Fitness: 2307\n",
      "problem 3: Trap\n",
      "Fitness: 1669\n",
      "\n",
      "\n",
      "\n",
      "Problem_size 4100\n",
      "\n",
      "problem 1: One Max\n",
      "Fitness: 2466\n",
      "problem 2: Deceptive One Max\n",
      "Fitness: 2512\n",
      "problem 3: Trap\n",
      "Fitness: 1879\n",
      "\n",
      "\n",
      "\n",
      "Problem_size 4600\n",
      "\n",
      "problem 1: One Max\n",
      "Fitness: 2736\n",
      "problem 2: Deceptive One Max\n",
      "Fitness: 2729\n",
      "problem 3: Trap\n",
      "Fitness: 2085\n",
      "\n",
      "\n",
      "\n"
     ]
    }
   ],
   "source": [
    "\n",
    "one_max_list=[]\n",
    "deceptive_one_list=[]\n",
    "trap_list=[]\n",
    "size_list=[]\n",
    "\n",
    "for problem_size in range(100,5000,500):\n",
    "    max_iterations = 1000\n",
    "    print(\"Problem_size\", problem_size)\n",
    "    print()\n",
    "    # Example problem 1: One Max\n",
    "    print('problem 1: One Max')\n",
    "    solution = randomized_hill_climbing(max_iterations, problem_size, one_max)\n",
    "    \n",
    "    #print('Solution:', solution)\n",
    "    print('Fitness:', one_max(solution))\n",
    "    one_max_list.append(one_max(solution))\n",
    "    \n",
    "    # Example problem 2: Deceptive One Max\n",
    "    print('problem 2: Deceptive One Max')\n",
    "    solution = randomized_hill_climbing(max_iterations, problem_size, deceptive_one_max)\n",
    "    #print('Solution:', solution)\n",
    "    print('Fitness:', deceptive_one_max(solution))\n",
    "    deceptive_one_list.append(deceptive_one_max(solution))\n",
    "    \n",
    "    # Example problem 3: Trap\n",
    "    print('problem 3: Trap')\n",
    "    solution = randomized_hill_climbing(max_iterations, problem_size, lambda x: trap(x, 5))\n",
    "    #print('Solution:', solution)\n",
    "    print('Fitness:', trap(solution, 5))\n",
    "    trap_list.append(  trap(solution, 5))\n",
    "    size_list.append(problem_size)\n",
    "    print()\n",
    "    print()\n",
    "    print()\n"
   ]
  },
  {
   "cell_type": "code",
   "execution_count": 17,
   "id": "2700f4f7",
   "metadata": {},
   "outputs": [
    {
     "data": {
      "image/png": "[encoded data removed]",
      "text/plain": [
       "<Figure size 576x432 with 1 Axes>"
      ]
     },
     "metadata": {
      "needs_background": "light"
     },
     "output_type": "display_data"
    }
   ],
   "source": [
    "\n",
    "\n",
    "\n",
    "plt.figure(figsize=(8, 6))\n",
    "sns.lineplot(x=size_list, y=one_max_list)\n",
    "# Set plot title and axis labels\n",
    "plt.title('Problem Size vs Fitness ')\n",
    "plt.xlabel('Problem Size Length')\n",
    "plt.ylabel('Fitness')\n",
    "# Display plot\n",
    "plt.show()"
   ]
  },
  {
   "cell_type": "code",
   "execution_count": 18,
   "id": "0d1e3a40",
   "metadata": {},
   "outputs": [
    {
     "data": {
      "image/png": "[encoded data removed]",
      "text/plain": [
       "<Figure size 576x432 with 1 Axes>"
      ]
     },
     "metadata": {
      "needs_background": "light"
     },
     "output_type": "display_data"
    }
   ],
   "source": [
    "plt.figure(figsize=(8, 6))\n",
    "sns.lineplot(x=size_list, y=deceptive_one_list)\n",
    "# Set plot title and axis labels\n",
    "plt.title('Problem Size vs Fitness ')\n",
    "plt.xlabel('Problem Size Length')\n",
    "plt.ylabel('Fitness')\n",
    "# Display plot\n",
    "plt.show()"
   ]
  },
  {
   "cell_type": "code",
   "execution_count": 19,
   "id": "d84e4064",
   "metadata": {},
   "outputs": [
    {
     "data": {
      "image/png": "[encoded data removed]",
      "text/plain": [
       "<Figure size 576x432 with 1 Axes>"
      ]
     },
     "metadata": {
      "needs_background": "light"
     },
     "output_type": "display_data"
    }
   ],
   "source": [
    "plt.figure(figsize=(8, 6))\n",
    "sns.lineplot(x=size_list, y=trap_list)\n",
    "# Set plot title and axis labels\n",
    "plt.title('Problem Size vs Fitness ')\n",
    "plt.xlabel('Problem Size Length')\n",
    "plt.ylabel('Fitness')\n",
    "# Display plot\n",
    "plt.show()"
   ]
  },
  {
   "cell_type": "markdown",
   "id": "d20ac61a",
   "metadata": {},
   "source": [
    "# Simulated annealing"
   ]
  },
  {
   "cell_type": "code",
   "execution_count": 74,
   "id": "b4e089ee",
   "metadata": {},
   "outputs": [
    {
     "name": "stdout",
     "output_type": "stream",
     "text": [
      "6\n",
      "Best coloring: {0: 0, 1: 2, 2: 1, 3: 0, 4: 1, 5: 2}\n",
      "Best Fitness: 6\n"
     ]
    }
   ],
   "source": [
    "import random\n",
    "import math\n",
    "\n",
    "def fitness(coloring, graph):\n",
    "    total = 0\n",
    "    \n",
    "    \n",
    "    \n",
    "    \n",
    "    for node in graph:\n",
    "        #for neighbor in graph[node]:\n",
    "            if all(coloring[neighbor] != coloring[node] for neighbor in graph[node]):\n",
    "                total += 1\n",
    "                \n",
    "    return total\n",
    "\n",
    "def simulated_annealing(graph, k, initial_temp=1000, cooling_rate=0.003, max_iterations=10000):\n",
    "    # Initialize random coloring\n",
    "    coloring = {}\n",
    "    nodes = list(graph.keys())\n",
    "    for node in nodes:\n",
    "        coloring[node] = random.randint(0, k-1)\n",
    "        \n",
    "    current_cost = fitness(coloring, graph)\n",
    "    best_coloring = coloring.copy()\n",
    "    best_cost = current_cost\n",
    "    \n",
    "    # Simulated Annealing\n",
    "    temperature = initial_temp\n",
    "    for i in range(max_iterations):\n",
    "        # Decrease temperature\n",
    "        temperature *= 1 - cooling_rate\n",
    "        \n",
    "        # Choose a random neighbor\n",
    "        node = random.choice(nodes)\n",
    "        neighbor_color = (coloring[node] + random.randint(1, k-1)) % k\n",
    "        neighbor = coloring.copy()\n",
    "        neighbor[node] = neighbor_color\n",
    "        \n",
    "        # Calculate cost and delta\n",
    "        neighbor_cost = fitness(neighbor, graph)\n",
    "        delta = neighbor_cost - current_cost\n",
    "        \n",
    "        # Accept neighbor if it improves the cost\n",
    "        if delta <= 0 or math.exp(-delta/temperature) > random.random():\n",
    "            coloring = neighbor.copy()\n",
    "            current_cost = neighbor_cost\n",
    "            \n",
    "            if current_cost >best_cost:\n",
    "                best_coloring = coloring.copy()\n",
    "                best_cost = current_cost\n",
    "    print(best_cost)\n",
    "    return best_coloring, best_cost\n",
    "\n",
    "\n",
    "graph = {\n",
    "    0: [1, 2],\n",
    "    1: [0, 2, 3],\n",
    "    2: [0, 1, 3],\n",
    "    3: [1, 2, 4],\n",
    "    4: [3, 5],\n",
    "    5: [4]\n",
    "}\n",
    "\n",
    "k = 3\n",
    "\n",
    "best_coloring, best_cost = simulated_annealing(graph, k)\n",
    "print(\"Best coloring:\", best_coloring)\n",
    "print(\"Best Fitness:\", best_cost)\n"
   ]
  },
  {
   "cell_type": "markdown",
   "id": "85855460",
   "metadata": {},
   "source": [
    "## Total Nodes vs Fitness with K=3 colors "
   ]
  },
  {
   "cell_type": "code",
   "execution_count": 75,
   "id": "d2ea1bcf",
   "metadata": {},
   "outputs": [
    {
     "name": "stdout",
     "output_type": "stream",
     "text": [
      "Total Number of Nodes  4  with  2  colors\n",
      "1\n",
      "Best fitness found: 1\n",
      "\n",
      "Total Number of Nodes  14  with  2  colors\n",
      "3\n",
      "Best fitness found: 3\n",
      "\n",
      "Total Number of Nodes  24  with  2  colors\n",
      "5\n",
      "Best fitness found: 5\n",
      "\n",
      "Total Number of Nodes  34  with  2  colors\n",
      "2\n",
      "Best fitness found: 2\n",
      "\n",
      "Total Number of Nodes  44  with  2  colors\n",
      "3\n",
      "Best fitness found: 3\n",
      "\n",
      "Total Number of Nodes  54  with  2  colors\n",
      "3\n",
      "Best fitness found: 3\n",
      "\n",
      "Total Number of Nodes  64  with  2  colors\n",
      "4\n",
      "Best fitness found: 4\n",
      "\n",
      "Total Number of Nodes  74  with  2  colors\n",
      "2\n",
      "Best fitness found: 2\n",
      "\n",
      "Total Number of Nodes  84  with  2  colors\n",
      "3\n",
      "Best fitness found: 3\n",
      "\n",
      "Total Number of Nodes  94  with  2  colors\n",
      "3\n",
      "Best fitness found: 3\n",
      "\n"
     ]
    }
   ],
   "source": [
    "\n",
    "fitness_nodes=[]\n",
    "k = 2\n",
    "for total_nodes in range(4,100,10):\n",
    "    graph={}\n",
    "    print(\"Total Number of Nodes \", total_nodes,\" with \",k,\" colors\"  )\n",
    "    for i in range(total_nodes):\n",
    "        random_int=np.random.randint(1,total_nodes)\n",
    "        nodes=np.random.choice( range(total_nodes), random_int ,replace=False )\n",
    "        graph[i]=(nodes)\n",
    "        \n",
    "    best_state, best_fitness = simulated_annealing(graph, k)\n",
    "    #print(\"Best state found:\", best_state)\n",
    "    print(\"Best fitness found:\", best_fitness)\n",
    "    fitness_nodes.append([best_fitness,total_nodes])\n",
    "    print()\n",
    "    \n",
    "fitness_nodes=np.array(fitness_nodes)"
   ]
  },
  {
   "cell_type": "code",
   "execution_count": 76,
   "id": "9fc4e819",
   "metadata": {},
   "outputs": [
    {
     "data": {
      "image/png": "[encoded data removed]",
      "text/plain": [
       "<Figure size 576x432 with 1 Axes>"
      ]
     },
     "metadata": {
      "needs_background": "light"
     },
     "output_type": "display_data"
    }
   ],
   "source": [
    "plt.figure(figsize=(8, 6))\n",
    "\n",
    "sns.lineplot(x=fitness_nodes[:,1], y=fitness_nodes[:,0])\n",
    "\n",
    "# Set plot title and axis labels\n",
    "plt.title('Total Nodes vs Fitness with K=3  colors')\n",
    "plt.xlabel('Total Nodes')\n",
    "plt.ylabel('Fitness')\n",
    "\n",
    "# Display plot\n",
    "plt.show()"
   ]
  },
  {
   "cell_type": "markdown",
   "id": "20fdb08c",
   "metadata": {},
   "source": [
    "## Total Nodes vs Fitness with K=20 colors "
   ]
  },
  {
   "cell_type": "code",
   "execution_count": 77,
   "id": "5f716713",
   "metadata": {},
   "outputs": [
    {
     "name": "stdout",
     "output_type": "stream",
     "text": [
      "Total Number of Nodes  4  with  20  colors\n",
      "3\n",
      "Best fitness found: 3\n",
      "\n",
      "Total Number of Nodes  14  with  20  colors\n",
      "7\n",
      "Best fitness found: 7\n",
      "\n",
      "Total Number of Nodes  24  with  20  colors\n",
      "15\n",
      "Best fitness found: 15\n",
      "\n",
      "Total Number of Nodes  34  with  20  colors\n",
      "17\n",
      "Best fitness found: 17\n",
      "\n",
      "Total Number of Nodes  44  with  20  colors\n",
      "17\n",
      "Best fitness found: 17\n",
      "\n"
     ]
    }
   ],
   "source": [
    "\n",
    "fitness_nodes=[]\n",
    "k = 20\n",
    "for total_nodes in range(4,50,10):\n",
    "    graph={}\n",
    "    print(\"Total Number of Nodes \", total_nodes,\" with \",k,\" colors\"  )\n",
    "    for i in range(total_nodes):\n",
    "        random_int=np.random.randint(1,total_nodes)\n",
    "        nodes=np.random.choice( range(total_nodes), random_int ,replace=False )\n",
    "        graph[i]=(nodes)\n",
    "        \n",
    "    best_state, best_fitness = simulated_annealing(graph, k)\n",
    "    #print(\"Best state found:\", best_state)\n",
    "    print(\"Best fitness found:\", best_fitness)\n",
    "    fitness_nodes.append([best_fitness,total_nodes])\n",
    "    print()\n",
    "    \n",
    "fitness_nodes=np.array(fitness_nodes)"
   ]
  },
  {
   "cell_type": "code",
   "execution_count": 78,
   "id": "37c7a782",
   "metadata": {},
   "outputs": [
    {
     "data": {
      "image/png": "[encoded data removed]",
      "text/plain": [
       "<Figure size 576x432 with 1 Axes>"
      ]
     },
     "metadata": {
      "needs_background": "light"
     },
     "output_type": "display_data"
    }
   ],
   "source": [
    "plt.figure(figsize=(8, 6))\n",
    "\n",
    "sns.lineplot(x=fitness_nodes[:,1], y=fitness_nodes[:,0])\n",
    "\n",
    "# Set plot title and axis labels\n",
    "plt.title('Total Nodes vs Fitness with K=20  colors')\n",
    "plt.xlabel('Total Nodes')\n",
    "plt.ylabel('Fitness')\n",
    "\n",
    "# Display plot\n",
    "plt.show()"
   ]
  },
  {
   "cell_type": "markdown",
   "id": "4fcd2db9",
   "metadata": {},
   "source": [
    "### 4-peaks"
   ]
  },
  {
   "cell_type": "code",
   "execution_count": 25,
   "id": "d1452591",
   "metadata": {},
   "outputs": [
    {
     "name": "stdout",
     "output_type": "stream",
     "text": [
      "Best bitstring: with problem size 50 ['1', '1', '1', '1', '1', '1', '1', '1', '1', '1', '0', '1', '1', '1', '1', '1', '1', '0', '1', '1', '1', '1', '1', '1', '1', '1', '1', '1', '1', '1', '1', '1', '1', '1', '1', '1', '1', '1', '1', '1', '1', '1', '1', '1', '1', '1', '1', '1', '1', '1']\n",
      "Fitness: 48\n"
     ]
    }
   ],
   "source": [
    "import random\n",
    "import math\n",
    "\n",
    "def random_bitstring(size):\n",
    "    return [random.choice(['0', '1']) for _ in range(size)]\n",
    "\n",
    "def flip_bit(bitstring):\n",
    "    idx = random.randint(0, len(bitstring)-1)\n",
    "    bit = '0' if bitstring[idx] == '1' else '1'\n",
    "    return bitstring[:idx] + [bit] + bitstring[idx+1:]\n",
    "\n",
    "def hamming_distance(bitstring1, bitstring2):\n",
    "    return sum(1 for bit1, bit2 in zip(bitstring1, bitstring2) if bit1 != bit2)\n",
    "\n",
    "def evaluate(bitstring, t, cutoff):\n",
    "    fitness = max(count_ones(bitstring), count_zeros(bitstring))\n",
    "    if fitness == len(bitstring):\n",
    "        fitness += t\n",
    "    elif fitness > cutoff:\n",
    "        fitness -= t\n",
    "    return fitness\n",
    "\n",
    "def count_ones(bitstring):\n",
    "    return bitstring.count('1')\n",
    "\n",
    "def count_zeros(bitstring):\n",
    "    return bitstring.count('0')\n",
    "\n",
    "def simulated_annealing(problem, max_iterations, max_temp, min_temp, alpha,size):\n",
    "    current = random_bitstring(len(problem(size)))\n",
    "    current_fitness = evaluate(current, 0, 0)\n",
    "    best = current[:]\n",
    "    best_fitness = current_fitness\n",
    "    temp = max_temp\n",
    "    \n",
    "    for i in range(max_iterations):\n",
    "        next_bitstring = flip_bit(current)\n",
    "        next_fitness = evaluate(next_bitstring, temp, count_ones(best))\n",
    "        \n",
    "        if next_fitness >= current_fitness or math.exp((next_fitness - current_fitness) / temp) > random.random():\n",
    "            current = next_bitstring\n",
    "            current_fitness = next_fitness\n",
    "            \n",
    "        if current_fitness >= best_fitness:\n",
    "            best = current[:]\n",
    "            best_fitness = current_fitness\n",
    "        \n",
    "        temp *= alpha\n",
    "        if temp < min_temp:\n",
    "            break\n",
    "    \n",
    "    return best, int(best_fitness)\n",
    "\n",
    "# 4-peaks problem\n",
    "def problem_4peaks(size):\n",
    "    return [random.choice(['0', '1']) for _ in range(size)]\n",
    "size=50\n",
    "best, best_fitness = simulated_annealing(problem_4peaks, 10000, 100, 0.1, 0.99,size )\n",
    "print(\"Best bitstring: with problem size 50\", best)\n",
    "print(\"Fitness:\", best_fitness)\n"
   ]
  },
  {
   "cell_type": "code",
   "execution_count": 26,
   "id": "de190933",
   "metadata": {},
   "outputs": [
    {
     "name": "stdout",
     "output_type": "stream",
     "text": [
      "bit_string_length  5\n",
      "Fitness: 82\n",
      "\n",
      "bit_string_length  15\n",
      "Fitness: 15\n",
      "\n",
      "bit_string_length  25\n",
      "Fitness: 25\n",
      "\n",
      "bit_string_length  35\n",
      "Fitness: 35\n",
      "\n",
      "bit_string_length  45\n",
      "Fitness: 43\n",
      "\n",
      "bit_string_length  55\n",
      "Fitness: 52\n",
      "\n",
      "bit_string_length  65\n",
      "Fitness: 60\n",
      "\n",
      "bit_string_length  75\n",
      "Fitness: 67\n",
      "\n",
      "bit_string_length  85\n",
      "Fitness: 82\n",
      "\n",
      "bit_string_length  95\n",
      "Fitness: 85\n",
      "\n"
     ]
    }
   ],
   "source": [
    "total_fitness=[]\n",
    "\n",
    "for bit_string_length in range(5,100,10):\n",
    "    print(\"bit_string_length \",bit_string_length)\n",
    "    best, best_fitness = simulated_annealing(problem_4peaks, 10000, 100, 0.1, 0.99,bit_string_length)\n",
    "    #print(\"Best bitstring:\", best)\n",
    "    print(\"Fitness:\", best_fitness)\n",
    "    total_fitness.append([bit_string_length,best_fitness])\n",
    "    print()\n",
    "    \n",
    "total_fitness=np.array(total_fitness)"
   ]
  },
  {
   "cell_type": "code",
   "execution_count": 27,
   "id": "71ea9270",
   "metadata": {},
   "outputs": [
    {
     "data": {
      "image/png": "[encoded data removed]",
      "text/plain": [
       "<Figure size 576x432 with 1 Axes>"
      ]
     },
     "metadata": {
      "needs_background": "light"
     },
     "output_type": "display_data"
    }
   ],
   "source": [
    "plt.figure(figsize=(8, 6))\n",
    "sns.lineplot(x=total_fitness[:,0], y=total_fitness[:,1])\n",
    "# Set plot title and axis labels\n",
    "plt.title('Total Bit Length vs Fitness ')\n",
    "plt.xlabel('Total Bit Length')\n",
    "plt.ylabel('Fitness')\n",
    "# Display plot\n",
    "plt.show()"
   ]
  },
  {
   "cell_type": "markdown",
   "id": "b04521e8",
   "metadata": {},
   "source": [
    "### One Max and Deceptive One Max"
   ]
  },
  {
   "cell_type": "code",
   "execution_count": 28,
   "id": "9faeff30",
   "metadata": {},
   "outputs": [
    {
     "name": "stdout",
     "output_type": "stream",
     "text": [
      "One Max:\n",
      "Best Solution: ['1', '1', '1', '1', '1', '1', '1', '1']\n",
      "Best Fitness: 8\n",
      "Deceptive One Max:\n",
      "Best Solution: ['0', '0', '0', '0', '0', '0', '0', '0']\n",
      "Best Fitness: 12\n"
     ]
    }
   ],
   "source": [
    "import random\n",
    "import math\n",
    "\n",
    "def random_bitstring(size):\n",
    "    return [random.choice(['0', '1']) for _ in range(size)]\n",
    "\n",
    "def fitness_fn_onemax(bitstring):\n",
    "    return sum(int(bit) for bit in bitstring)\n",
    "\n",
    "def fitness_fn_deceptive_one_max(bitstring):\n",
    "    total_bits = len(bitstring)\n",
    "    block_size = math.ceil(total_bits / 4)\n",
    "    fitness = 0\n",
    "    for i in range(0, total_bits, block_size):\n",
    "        block = bitstring[i:i+block_size]\n",
    "        if block.count('0') == block_size:\n",
    "            fitness += block_size + 1\n",
    "        else:\n",
    "            fitness += block.count('1')\n",
    "    return fitness\n",
    "\n",
    "\n",
    "\n",
    "\n",
    "def neighbor_fn(bitstring):\n",
    "    idx = random.randint(0, len(bitstring)-1)\n",
    "    bit = '0' if bitstring[idx] == '1' else '1'\n",
    "    return bitstring[:idx] + [bit] + bitstring[idx+1:]\n",
    "\n",
    "def acceptance_probability(old_fitness, new_fitness, temperature):\n",
    "    if new_fitness > old_fitness:\n",
    "        return 1.0\n",
    "    else:\n",
    "        return math.exp((new_fitness - old_fitness) / temperature)\n",
    "\n",
    "def simulated_annealing(problem, fitness_fn, neighbor_fn, max_iterations, max_temperature):\n",
    "    current, current_fitness = random_bitstring(len(problem)), 0\n",
    "    if fitness_fn == fitness_fn_onemax:\n",
    "        current_fitness = fitness_fn(current)\n",
    "    elif fitness_fn == fitness_fn_deceptive_one_max:\n",
    "        current_fitness = fitness_fn(current)\n",
    "    else:\n",
    "        raise ValueError(\"Unknown fitness function\")\n",
    "    best, best_fitness = current, current_fitness\n",
    "    temperature = max_temperature\n",
    "    for i in range(max_iterations):\n",
    "        neighbor = neighbor_fn(current)\n",
    "        if fitness_fn == fitness_fn_onemax:\n",
    "            neighbor_fitness = fitness_fn(neighbor)\n",
    "        elif fitness_fn == fitness_fn_deceptive_one_max:\n",
    "            neighbor_fitness = fitness_fn(neighbor)\n",
    "        else:\n",
    "            raise ValueError(\"Unknown fitness function\")\n",
    "        ap = acceptance_probability(current_fitness, neighbor_fitness, temperature)\n",
    "        if ap > random.random():\n",
    "            current, current_fitness = neighbor, neighbor_fitness\n",
    "            if current_fitness > best_fitness:\n",
    "                best, best_fitness = current, current_fitness\n",
    "        temperature *= 0.99\n",
    "    return (best, best_fitness)\n",
    "problem = [0, 1, 0, 1, 0, 1, 0, 1]\n",
    "max_iterations = 1000\n",
    "max_temperature = 10.0\n",
    "\n",
    "# One Max\n",
    "best, best_fitness = simulated_annealing(problem, fitness_fn_onemax, neighbor_fn, max_iterations, max_temperature)\n",
    "print(\"One Max:\")\n",
    "print(\"Best Solution:\", best)\n",
    "print(\"Best Fitness:\", best_fitness)\n",
    "\n",
    "# Deceptive One Max\n",
    "best, best_fitness = simulated_annealing(problem, fitness_fn_deceptive_one_max, neighbor_fn, max_iterations, max_temperature)\n",
    "print(\"Deceptive One Max:\")\n",
    "print(\"Best Solution:\", best)\n",
    "print(\"Best Fitness:\", best_fitness)\n"
   ]
  },
  {
   "cell_type": "code",
   "execution_count": 29,
   "id": "af878ca0",
   "metadata": {},
   "outputs": [
    {
     "name": "stdout",
     "output_type": "stream",
     "text": [
      "Problem_size 100\n",
      "\n",
      "problem 1: One Max\n",
      "Fitness: 1865\n",
      "problem 2: Deceptive One Max\n",
      "Fitness: 1865\n",
      "\n",
      "\n",
      "\n",
      "Problem_size 600\n",
      "\n",
      "problem 1: One Max\n",
      "Fitness: 1865\n",
      "problem 2: Deceptive One Max\n",
      "Fitness: 1865\n",
      "\n",
      "\n",
      "\n",
      "Problem_size 1100\n",
      "\n",
      "problem 1: One Max\n",
      "Fitness: 1865\n",
      "problem 2: Deceptive One Max\n",
      "Fitness: 1865\n",
      "\n",
      "\n",
      "\n",
      "Problem_size 1600\n",
      "\n",
      "problem 1: One Max\n",
      "Fitness: 1865\n",
      "problem 2: Deceptive One Max\n",
      "Fitness: 1865\n",
      "\n",
      "\n",
      "\n",
      "Problem_size 2100\n",
      "\n",
      "problem 1: One Max\n",
      "Fitness: 1865\n",
      "problem 2: Deceptive One Max\n",
      "Fitness: 1865\n",
      "\n",
      "\n",
      "\n",
      "Problem_size 2600\n",
      "\n",
      "problem 1: One Max\n",
      "Fitness: 1865\n",
      "problem 2: Deceptive One Max\n",
      "Fitness: 1865\n",
      "\n",
      "\n",
      "\n",
      "Problem_size 3100\n",
      "\n",
      "problem 1: One Max\n",
      "Fitness: 1865\n",
      "problem 2: Deceptive One Max\n",
      "Fitness: 1865\n",
      "\n",
      "\n",
      "\n",
      "Problem_size 3600\n",
      "\n",
      "problem 1: One Max\n",
      "Fitness: 1865\n",
      "problem 2: Deceptive One Max\n",
      "Fitness: 1865\n",
      "\n",
      "\n",
      "\n",
      "Problem_size 4100\n",
      "\n",
      "problem 1: One Max\n",
      "Fitness: 1865\n",
      "problem 2: Deceptive One Max\n",
      "Fitness: 1865\n",
      "\n",
      "\n",
      "\n",
      "Problem_size 4600\n",
      "\n",
      "problem 1: One Max\n",
      "Fitness: 1865\n",
      "problem 2: Deceptive One Max\n",
      "Fitness: 1865\n",
      "\n",
      "\n",
      "\n"
     ]
    }
   ],
   "source": [
    "\n",
    "\n",
    "one_max_list=[]\n",
    "deceptive_one_list=[]\n",
    "trap_list=[]\n",
    "size_list=[]\n",
    "\n",
    "for problem_size in range(100,5000,500):\n",
    "    \n",
    "    problem= [  np.random.randint(1) for i in range(problem_size)]\n",
    "    \n",
    "    max_iterations = 1000\n",
    "    print(\"Problem_size\", problem_size)\n",
    "    print()\n",
    "    # Example problem 1: One Max\n",
    "    print('problem 1: One Max')\n",
    "    best, best_fitness = simulated_annealing(problem, fitness_fn_onemax, neighbor_fn, max_iterations, max_temperature)\n",
    "    \n",
    "    #print('Solution:', solution)\n",
    "    print('Fitness:', one_max(solution))\n",
    "    one_max_list.append(best_fitness)\n",
    "    \n",
    "    # Example problem 2: Deceptive One Max\n",
    "    print('problem 2: Deceptive One Max')\n",
    "    best, best_fitness = simulated_annealing(problem, fitness_fn_deceptive_one_max, neighbor_fn, max_iterations, max_temperature)\n",
    "    #print('Solution:', solution)\n",
    "    print('Fitness:', deceptive_one_max(solution))\n",
    "    deceptive_one_list.append(best_fitness)\n",
    "\n",
    "    size_list.append(problem_size)\n",
    "    print()\n",
    "    print()\n",
    "    print()\n",
    "\n"
   ]
  },
  {
   "cell_type": "markdown",
   "id": "12ee30fa",
   "metadata": {},
   "source": [
    "### One Max"
   ]
  },
  {
   "cell_type": "code",
   "execution_count": 30,
   "id": "47cdde0f",
   "metadata": {},
   "outputs": [
    {
     "data": {
      "image/png": "[encoded data removed]",
      "text/plain": [
       "<Figure size 576x432 with 1 Axes>"
      ]
     },
     "metadata": {
      "needs_background": "light"
     },
     "output_type": "display_data"
    }
   ],
   "source": [
    "\n",
    "plt.figure(figsize=(8, 6))\n",
    "sns.lineplot(x=size_list, y=one_max_list)\n",
    "# Set plot title and axis labels\n",
    "plt.title('Problem Size vs Fitness ')\n",
    "plt.xlabel('Problem Size Length')\n",
    "plt.ylabel('Fitness')\n",
    "# Display plot\n",
    "plt.show()"
   ]
  },
  {
   "cell_type": "markdown",
   "id": "1143935a",
   "metadata": {},
   "source": [
    "### Deceptive One Max"
   ]
  },
  {
   "cell_type": "code",
   "execution_count": 31,
   "id": "0c514386",
   "metadata": {},
   "outputs": [
    {
     "data": {
      "image/png": "[encoded data removed]",
      "text/plain": [
       "<Figure size 576x432 with 1 Axes>"
      ]
     },
     "metadata": {
      "needs_background": "light"
     },
     "output_type": "display_data"
    }
   ],
   "source": [
    "\n",
    "plt.figure(figsize=(8, 6))\n",
    "sns.lineplot(x=size_list, y=one_max_list)\n",
    "# Set plot title and axis labels\n",
    "plt.title('Problem Size vs Fitness ')\n",
    "plt.xlabel('Problem Size Length')\n",
    "plt.ylabel('Fitness')\n",
    "# Display plot\n",
    "plt.show()"
   ]
  },
  {
   "cell_type": "markdown",
   "id": "be50218e",
   "metadata": {},
   "source": [
    "### Trap"
   ]
  },
  {
   "cell_type": "code",
   "execution_count": 32,
   "id": "8be769c0",
   "metadata": {},
   "outputs": [
    {
     "name": "stdout",
     "output_type": "stream",
     "text": [
      "Best bitstring: ['1', '1', '1', '1', '1', '1', '1', '1']\n",
      "Best fitness: 8\n"
     ]
    }
   ],
   "source": [
    "import random\n",
    "import math\n",
    "\n",
    "def random_bitstring(num_bits):\n",
    "    return [random.choice(['0', '1']) for _ in range(num_bits)]\n",
    "\n",
    "def trap(bitstring, k):\n",
    "    num_blocks = len(bitstring) // k\n",
    "    blocks = [bitstring[i*k:(i+1)*k] for i in range(num_blocks)]\n",
    "    fitness = 0\n",
    "    for block in blocks:\n",
    "        if '0' not in block:\n",
    "            fitness += k\n",
    "        else:\n",
    "            fitness += k - block.count('0') - 1\n",
    "    return fitness\n",
    "\n",
    "def simulated_annealing(problem, k, max_iterations, max_temp, min_temp, cooling_rate):\n",
    "    current = random_bitstring(len(problem))\n",
    "    current_fitness = trap(current, k)\n",
    "    best = current\n",
    "    best_fitness = current_fitness\n",
    "    temperature = max_temp\n",
    "    for i in range(max_iterations):\n",
    "        next_bitstring = current.copy()\n",
    "        idx = random.randint(0, len(problem)-1)\n",
    "        next_bitstring[idx] = '1' if current[idx] == '0' else '0'\n",
    "        next_fitness = trap(next_bitstring, k)\n",
    "        delta = next_fitness - current_fitness\n",
    "        if delta > 0 or math.exp(delta / temperature) > random.random():\n",
    "            current = next_bitstring\n",
    "            current_fitness = next_fitness\n",
    "        if current_fitness > best_fitness:\n",
    "            best = current\n",
    "            best_fitness = current_fitness\n",
    "        temperature *= cooling_rate\n",
    "        temperature = max(temperature, min_temp)\n",
    "    return (best, best_fitness)\n",
    "\n",
    "# Test with Trap problem\n",
    "problem = [0, 1, 0, 1, 0, 1, 0, 1]\n",
    "k = 4\n",
    "max_iterations = 1000\n",
    "max_temp = 50.0\n",
    "min_temp = 0.01\n",
    "cooling_rate = 0.99\n",
    "\n",
    "best, best_fitness = simulated_annealing(problem, k, max_iterations, max_temp, min_temp, cooling_rate)\n",
    "print(f\"Best bitstring: {best}\")\n",
    "print(f\"Best fitness: {best_fitness}\")\n"
   ]
  },
  {
   "cell_type": "markdown",
   "id": "d0d57890",
   "metadata": {},
   "source": [
    "## Genetic algorithm"
   ]
  },
  {
   "cell_type": "markdown",
   "id": "3f42de67",
   "metadata": {},
   "source": [
    "### k-color with Genetic Algorithm"
   ]
  },
  {
   "cell_type": "code",
   "execution_count": 33,
   "id": "03c9fc78",
   "metadata": {},
   "outputs": [],
   "source": [
    "import random\n",
    "\n",
    "def fitness_function(coloring, graph):\n",
    "    fitness = 0\n",
    "    for node in range(len(graph)):\n",
    "        neighbors = graph[node]\n",
    "        for neighbor in neighbors:\n",
    "            if coloring[neighbor] != coloring[node]:\n",
    "                fitness += 1\n",
    "    return fitness\n",
    "\n",
    "def generate_random_population(population_size, num_nodes, num_colors):\n",
    "    population = []\n",
    "    for i in range(population_size):\n",
    "        chromosome = [random.randint(0, num_colors-1) for j in range(num_nodes)]\n",
    "        population.append(chromosome)\n",
    "    return population\n",
    "\n",
    "def crossover(parent1, parent2):\n",
    "    crossover_point = random.randint(0, len(parent1)-1)\n",
    "    child = parent1[:crossover_point] + parent2[crossover_point:]\n",
    "    return child\n",
    "\n",
    "def mutate(chromosome, mutation_rate, num_colors):\n",
    "    for i in range(len(chromosome)):\n",
    "        if random.random() < mutation_rate:\n",
    "            chromosome[i] = random.randint(0, num_colors-1)\n",
    "    return chromosome\n",
    "\n",
    "def select_parents(population, fitness_scores):\n",
    "    total_fitness = sum(fitness_scores)\n",
    "    probabilities = [fitness_score/total_fitness for fitness_score in fitness_scores]\n",
    "    parent1 = random.choices(population, weights=probabilities)[0]\n",
    "    parent2 = random.choices(population, weights=probabilities)[0]\n",
    "    return parent1, parent2\n",
    "\n",
    "def genetic_algorithm(graph, num_colors, population_size=100, max_generations=1000, mutation_rate=0.1):\n",
    "    num_nodes = len(graph)\n",
    "    population = generate_random_population(population_size, num_nodes, num_colors)\n",
    "    for generation in range(max_generations):\n",
    "        fitness_scores = [fitness_function(chromosome, graph) for chromosome in population]\n",
    "        best_fitness = max(fitness_scores)\n",
    "        best_chromosome = population[fitness_scores.index(best_fitness)]\n",
    "        if best_fitness == num_nodes*(num_nodes-1)/2:\n",
    "            return best_chromosome, best_fitness\n",
    "        new_population = [best_chromosome]\n",
    "        for i in range(population_size-1):\n",
    "            parent1, parent2 = select_parents(population, fitness_scores)\n",
    "            child = crossover(parent1, parent2)\n",
    "            child = mutate(child, mutation_rate, num_colors)\n",
    "            new_population.append(child)\n",
    "        population = new_population\n",
    "    best_fitness = max([fitness_function(chromosome, graph) for chromosome in population])\n",
    "    best_chromosome = population[fitness_scores.index(best_fitness)]\n",
    "    return best_chromosome, best_fitness\n"
   ]
  },
  {
   "cell_type": "code",
   "execution_count": 34,
   "id": "1548d5fa",
   "metadata": {},
   "outputs": [
    {
     "name": "stdout",
     "output_type": "stream",
     "text": [
      "Solution: [0, 2, 1, 0]\n",
      "Fitness: 10\n"
     ]
    }
   ],
   "source": [
    "graph = [[1,2],[0,2,3],[0,1,3],[1,2]]\n",
    "num_colors = 3\n",
    "solution, fitness = genetic_algorithm(graph, num_colors)\n",
    "print(\"Solution:\", solution)\n",
    "print(\"Fitness:\", fitness)\n"
   ]
  },
  {
   "cell_type": "markdown",
   "id": "9be7ed0c",
   "metadata": {},
   "source": [
    "## Total Nodes vs Fitness with K=3 colors "
   ]
  },
  {
   "cell_type": "code",
   "execution_count": 35,
   "id": "4c923cec",
   "metadata": {},
   "outputs": [
    {
     "name": "stdout",
     "output_type": "stream",
     "text": [
      "Total Number of Nodes  4  with  3  colors\n",
      "Best state found: [1, 0, 1, 2]\n",
      "Best fitness found: 7\n",
      "\n",
      "Total Number of Nodes  9  with  3  colors\n",
      "Best state found: [1, 0, 0, 2, 0, 1, 2, 0, 1]\n",
      "Best fitness found: 26\n",
      "\n",
      "Total Number of Nodes  14  with  3  colors\n",
      "Best state found: [1, 0, 0, 2, 1, 2, 1, 1, 0, 2, 0, 2, 1, 1]\n",
      "Best fitness found: 68\n",
      "\n",
      "Total Number of Nodes  19  with  3  colors\n",
      "Best state found: [1, 0, 2, 1, 0, 2, 2, 0, 0, 1, 0, 0, 1, 2, 0, 1, 1, 1, 2]\n",
      "Best fitness found: 153\n",
      "\n",
      "Total Number of Nodes  24  with  3  colors\n",
      "Best state found: [0, 2, 2, 2, 1, 2, 2, 0, 0, 0, 1, 0, 0, 1, 1, 1, 0, 2, 2, 1, 1, 1, 0, 1]\n",
      "Best fitness found: 223\n",
      "\n",
      "Total Number of Nodes  29  with  3  colors\n",
      "Best state found: [1, 2, 1, 1, 2, 2, 0, 0, 2, 1, 0, 0, 2, 0, 2, 0, 1, 2, 2, 2, 1, 1, 1, 0, 1, 1, 2, 0, 0]\n",
      "Best fitness found: 340\n",
      "\n"
     ]
    }
   ],
   "source": [
    "\n",
    "fitness_nodes=[]\n",
    "k = 3\n",
    "for total_nodes in range(4,30,5):\n",
    "    graph=[]\n",
    "    print(\"Total Number of Nodes \", total_nodes,\" with \",k,\" colors\"  )\n",
    "    for i in range(total_nodes):\n",
    "        random_int=np.random.randint(1,total_nodes)\n",
    "        nodes=np.random.choice( range(total_nodes), random_int ,replace=False )\n",
    "        graph.append(nodes)\n",
    "        \n",
    "    best_state, best_fitness = genetic_algorithm(graph, k)\n",
    "    print(\"Best state found:\", best_state)\n",
    "    print(\"Best fitness found:\", best_fitness)\n",
    "    fitness_nodes.append([best_fitness,total_nodes])\n",
    "    print()\n",
    "    \n",
    "fitness_nodes=np.array(fitness_nodes)"
   ]
  },
  {
   "cell_type": "code",
   "execution_count": 36,
   "id": "c5fef362",
   "metadata": {},
   "outputs": [
    {
     "data": {
      "image/png": "[encoded data removed]",
      "text/plain": [
       "<Figure size 576x432 with 1 Axes>"
      ]
     },
     "metadata": {
      "needs_background": "light"
     },
     "output_type": "display_data"
    }
   ],
   "source": [
    "plt.figure(figsize=(8, 6))\n",
    "\n",
    "sns.lineplot(x=fitness_nodes[:,1], y=fitness_nodes[:,0])\n",
    "\n",
    "# Set plot title and axis labels\n",
    "plt.title('Total Nodes vs Fitness with K=3  colors')\n",
    "plt.xlabel('Total Nodes')\n",
    "plt.ylabel('Fitness')\n",
    "\n",
    "# Display plot\n",
    "plt.show()"
   ]
  },
  {
   "cell_type": "markdown",
   "id": "6fd46580",
   "metadata": {},
   "source": [
    "## Total Nodes vs Fitness with K=20 colors "
   ]
  },
  {
   "cell_type": "code",
   "execution_count": 37,
   "id": "83755b7a",
   "metadata": {},
   "outputs": [
    {
     "name": "stdout",
     "output_type": "stream",
     "text": [
      "Total Number of Nodes  4  with  20  colors\n",
      "Best state found: [13, 4, 12, 3]\n",
      "Best fitness found: 10\n",
      "\n",
      "Total Number of Nodes  9  with  20  colors\n",
      "Best state found: [7, 12, 15, 1, 18, 16, 4, 13, 1]\n",
      "Best fitness found: 34\n",
      "\n",
      "Total Number of Nodes  14  with  20  colors\n",
      "Best state found: [0, 5, 10, 16, 3, 19, 18, 8, 10, 14, 9, 14, 7, 6]\n",
      "Best fitness found: 86\n",
      "\n",
      "Total Number of Nodes  19  with  20  colors\n",
      "Best state found: [2, 5, 6, 0, 10, 19, 13, 7, 8, 17, 3, 3, 1, 3, 16, 12, 0, 16, 7]\n",
      "Best fitness found: 149\n",
      "\n",
      "Total Number of Nodes  24  with  20  colors\n",
      "Best state found: [13, 5, 8, 18, 17, 11, 12, 7, 4, 15, 6, 0, 3, 5, 1, 16, 7, 15, 9, 18, 2, 10, 2, 8]\n",
      "Best fitness found: 260\n",
      "\n",
      "Total Number of Nodes  29  with  20  colors\n",
      "Best state found: [3, 7, 12, 13, 7, 8, 0, 17, 9, 19, 3, 9, 11, 2, 9, 2, 14, 1, 5, 10, 0, 8, 18, 6, 5, 1, 15, 6, 14]\n",
      "Best fitness found: 355\n",
      "\n"
     ]
    }
   ],
   "source": [
    "\n",
    "fitness_nodes=[]\n",
    "k = 20\n",
    "for total_nodes in range(4,30,5):\n",
    "    graph=[]\n",
    "    print(\"Total Number of Nodes \", total_nodes,\" with \",k,\" colors\"  )\n",
    "    for i in range(total_nodes):\n",
    "        random_int=np.random.randint(1,total_nodes)\n",
    "        nodes=np.random.choice( range(total_nodes), random_int ,replace=False )\n",
    "        graph.append(nodes)\n",
    "        \n",
    "    best_state, best_fitness = genetic_algorithm(graph, k)\n",
    "    print(\"Best state found:\", best_state)\n",
    "    print(\"Best fitness found:\", best_fitness)\n",
    "    fitness_nodes.append([best_fitness,total_nodes])\n",
    "    print()\n",
    "    \n",
    "fitness_nodes=np.array(fitness_nodes)"
   ]
  },
  {
   "cell_type": "code",
   "execution_count": 38,
   "id": "79ec84e8",
   "metadata": {},
   "outputs": [
    {
     "data": {
      "image/png": "[encoded data removed]",
      "text/plain": [
       "<Figure size 576x432 with 1 Axes>"
      ]
     },
     "metadata": {
      "needs_background": "light"
     },
     "output_type": "display_data"
    }
   ],
   "source": [
    "plt.figure(figsize=(8, 6))\n",
    "\n",
    "sns.lineplot(x=fitness_nodes[:,1], y=fitness_nodes[:,0])\n",
    "\n",
    "# Set plot title and axis labels\n",
    "plt.title('Total Nodes vs Fitness with K=20  colors')\n",
    "plt.xlabel('Total Nodes')\n",
    "plt.ylabel('Fitness')\n",
    "\n",
    "# Display plot\n",
    "plt.show()"
   ]
  },
  {
   "cell_type": "markdown",
   "id": "0883a7d5",
   "metadata": {},
   "source": [
    "### Population Size vs Fitness in Genetic Algorithm"
   ]
  },
  {
   "cell_type": "code",
   "execution_count": 39,
   "id": "d182aed5",
   "metadata": {},
   "outputs": [
    {
     "name": "stdout",
     "output_type": "stream",
     "text": [
      "Total population_size  10  with  3  colors\n",
      "Best state found: [1, 0, 1, 0, 2]\n",
      "Best fitness found: 11\n",
      "\n",
      "Total population_size  100  with  3  colors\n",
      "Best state found: [0, 0, 2, 1, 2]\n",
      "Best fitness found: 10\n",
      "\n",
      "Total population_size  190  with  3  colors\n",
      "Best state found: [0, 0, 1, 1, 2]\n",
      "Best fitness found: 13\n",
      "\n",
      "Total population_size  280  with  3  colors\n",
      "Best state found: [0, 2, 1, 1, 2]\n",
      "Best fitness found: 13\n",
      "\n",
      "Total population_size  370  with  3  colors\n",
      "Best state found: [2, 2, 1, 1, 0]\n",
      "Best fitness found: 7\n",
      "\n",
      "Total population_size  460  with  3  colors\n",
      "Best state found: [0, 1, 1, 2, 2]\n",
      "Best fitness found: 11\n",
      "\n"
     ]
    }
   ],
   "source": [
    "\n",
    "fitness_nodes=[]\n",
    "k = 3\n",
    "total_nodes=5\n",
    "for population_size in range(10,500,90):\n",
    "    graph=[]\n",
    "    print(\"Total population_size \", population_size,\" with \",k,\" colors\"  )\n",
    "    for i in range(total_nodes):\n",
    "        random_int=np.random.randint(1,total_nodes)\n",
    "        nodes=np.random.choice( range(total_nodes), random_int ,replace=False )\n",
    "        graph.append(nodes)\n",
    "    best_state, best_fitness = genetic_algorithm(graph, k,population_size=population_size)\n",
    "    print(\"Best state found:\", best_state)\n",
    "    print(\"Best fitness found:\", best_fitness)\n",
    "    fitness_nodes.append([best_fitness,population_size])\n",
    "    print()\n",
    "    \n",
    "fitness_nodes=np.array(fitness_nodes)"
   ]
  },
  {
   "cell_type": "code",
   "execution_count": 40,
   "id": "4cd5a42f",
   "metadata": {},
   "outputs": [
    {
     "data": {
      "image/png": "[encoded data removed]",
      "text/plain": [
       "<Figure size 576x432 with 1 Axes>"
      ]
     },
     "metadata": {
      "needs_background": "light"
     },
     "output_type": "display_data"
    }
   ],
   "source": [
    "plt.figure(figsize=(8, 6))\n",
    "\n",
    "sns.lineplot(x=fitness_nodes[:,1], y=fitness_nodes[:,0])\n",
    "\n",
    "# Set plot title and axis labels\n",
    "plt.title('Total Population Size vs Fitness with K=3  colors')\n",
    "plt.xlabel('Total Population Size')\n",
    "plt.ylabel('Fitness')\n",
    "\n",
    "# Display plot\n",
    "plt.show()"
   ]
  },
  {
   "cell_type": "markdown",
   "id": "7528eefc",
   "metadata": {},
   "source": [
    "###  max_generations vs Fitness in Genetic Algorithm"
   ]
  },
  {
   "cell_type": "code",
   "execution_count": 41,
   "id": "cdbc0b06",
   "metadata": {
    "scrolled": true
   },
   "outputs": [
    {
     "name": "stdout",
     "output_type": "stream",
     "text": [
      "Total max_generations  4  with  3  colors\n",
      "Best state found: [0, 0, 1, 1, 2]\n",
      "Best fitness found: 11\n",
      "\n",
      "Total max_generations  104  with  3  colors\n",
      "Best state found: [2, 0, 1, 0, 2]\n",
      "Best fitness found: 7\n",
      "\n",
      "Total max_generations  204  with  3  colors\n",
      "Best state found: [2, 0, 1, 0, 1]\n",
      "Best fitness found: 9\n",
      "\n",
      "Total max_generations  304  with  3  colors\n",
      "Best state found: [0, 2, 0, 2, 1]\n",
      "Best fitness found: 8\n",
      "\n",
      "Total max_generations  404  with  3  colors\n",
      "Best state found: [1, 2, 2, 1, 0]\n",
      "Best fitness found: 11\n",
      "\n"
     ]
    }
   ],
   "source": [
    "\n",
    "fitness_nodes=[]\n",
    "k = 3\n",
    "total_nodes=5\n",
    "for max_generations in range(4,500,100):\n",
    "    graph=[]\n",
    "    print(\"Total max_generations \", max_generations,\" with \",k,\" colors\"  )\n",
    "    for i in range(total_nodes):\n",
    "        random_int=np.random.randint(1,total_nodes)\n",
    "        nodes=np.random.choice( range(total_nodes), random_int ,replace=False )\n",
    "        graph.append(nodes)\n",
    "    best_state, best_fitness = genetic_algorithm(graph, k,max_generations=max_generations)\n",
    "    print(\"Best state found:\", best_state)\n",
    "    print(\"Best fitness found:\", best_fitness)\n",
    "    fitness_nodes.append([best_fitness,max_generations])\n",
    "    print()\n",
    "    \n",
    "fitness_nodes=np.array(fitness_nodes)"
   ]
  },
  {
   "cell_type": "code",
   "execution_count": 42,
   "id": "ff1c1156",
   "metadata": {
    "scrolled": true
   },
   "outputs": [
    {
     "data": {
      "image/png": "[encoded data removed]",
      "text/plain": [
       "<Figure size 576x432 with 1 Axes>"
      ]
     },
     "metadata": {
      "needs_background": "light"
     },
     "output_type": "display_data"
    }
   ],
   "source": [
    "plt.figure(figsize=(8, 6))\n",
    "\n",
    "sns.lineplot(x=fitness_nodes[:,1], y=fitness_nodes[:,0])\n",
    "\n",
    "# Set plot title and axis labels\n",
    "plt.title('Total max_generations vs Fitness with K=3  colors')\n",
    "plt.xlabel('Total max_generations')\n",
    "plt.ylabel('Fitness')\n",
    "\n",
    "# Display plot\n",
    "plt.show()"
   ]
  },
  {
   "cell_type": "markdown",
   "id": "fdecac7b",
   "metadata": {},
   "source": [
    "###  mutation_rate vs Fitness in Genetic Algorithm"
   ]
  },
  {
   "cell_type": "code",
   "execution_count": 43,
   "id": "bbb6aa93",
   "metadata": {},
   "outputs": [
    {
     "name": "stdout",
     "output_type": "stream",
     "text": [
      "Total max_generations  0.1  with  3  colors\n",
      "Best state found: [2, 1, 0, 2, 0]\n",
      "Best fitness found: 11\n",
      "\n",
      "Total max_generations  0.3  with  3  colors\n",
      "Best state found: [1, 1, 2, 0, 0]\n",
      "Best fitness found: 7\n",
      "\n",
      "Total max_generations  0.5  with  3  colors\n",
      "Best state found: [0, 1, 1, 2, 1]\n",
      "Best fitness found: 11\n",
      "\n",
      "Total max_generations  0.7  with  3  colors\n",
      "Best state found: [0, 1, 2, 2, 2]\n",
      "Best fitness found: 5\n",
      "\n",
      "Total max_generations  0.9  with  3  colors\n",
      "Best state found: [0, 2, 1, 1, 2]\n",
      "Best fitness found: 8\n",
      "\n"
     ]
    }
   ],
   "source": [
    "\n",
    "fitness_nodes=[]\n",
    "k = 3\n",
    "total_nodes=5\n",
    "for mutation_rate in range(10,100,20):\n",
    "    mutation_rate=mutation_rate/100\n",
    "    graph=[]\n",
    "    print(\"Total max_generations \", mutation_rate,\" with \",k,\" colors\"  )\n",
    "    for i in range(total_nodes):\n",
    "        random_int=np.random.randint(1,total_nodes)\n",
    "        nodes=np.random.choice( range(total_nodes), random_int ,replace=False )\n",
    "        graph.append(nodes)\n",
    "    best_state, best_fitness = genetic_algorithm(graph, k,mutation_rate=mutation_rate)\n",
    "    print(\"Best state found:\", best_state)\n",
    "    print(\"Best fitness found:\", best_fitness)\n",
    "    fitness_nodes.append([best_fitness,mutation_rate])\n",
    "    print()\n",
    "    \n",
    "fitness_nodes=np.array(fitness_nodes)"
   ]
  },
  {
   "cell_type": "code",
   "execution_count": 44,
   "id": "5ca25c32",
   "metadata": {
    "scrolled": true
   },
   "outputs": [
    {
     "data": {
      "image/png": "[encoded data removed]",
      "text/plain": [
       "<Figure size 576x432 with 1 Axes>"
      ]
     },
     "metadata": {
      "needs_background": "light"
     },
     "output_type": "display_data"
    }
   ],
   "source": [
    "plt.figure(figsize=(8, 6))\n",
    "\n",
    "sns.lineplot(x=fitness_nodes[:,1], y=fitness_nodes[:,0])\n",
    "\n",
    "# Set plot title and axis labels\n",
    "plt.title('Total mutation_rate vs Fitness with K=3  colors')\n",
    "plt.xlabel('Total mutation_rate')\n",
    "plt.ylabel('Fitness')\n",
    "\n",
    "# Display plot\n",
    "plt.show()"
   ]
  },
  {
   "cell_type": "markdown",
   "id": "0c671b8e",
   "metadata": {},
   "source": [
    "## 4-peak with Genetic Algorithm"
   ]
  },
  {
   "cell_type": "code",
   "execution_count": 45,
   "id": "a2f7294e",
   "metadata": {
    "scrolled": true
   },
   "outputs": [
    {
     "name": "stdout",
     "output_type": "stream",
     "text": [
      "Fitness score:  10\n"
     ]
    }
   ],
   "source": [
    "import random\n",
    "import numpy as np\n",
    "\n",
    "def random_bitstring(size):\n",
    "    return [random.choice([0, 1]) for _ in range(size)]\n",
    "\n",
    "def calc_fitness(bitstring):\n",
    "    length = len(bitstring)\n",
    "    head = sum(bitstring[:length//2])\n",
    "    tail = sum(bitstring[length//2:])\n",
    "    if head == length//2 and tail == length//2:\n",
    "        return length\n",
    "    else:\n",
    "        return max(head, tail)\n",
    "\n",
    "def tournament_selection(population, fitnesses, tournament_size):\n",
    "    tournament = random.sample(range(len(population)), tournament_size)\n",
    "    fitness_tournament = [fitnesses[i] for i in tournament]\n",
    "    winner = tournament[np.argmax(fitness_tournament)]\n",
    "    return population[winner]\n",
    "\n",
    "def single_point_crossover(parent1, parent2):\n",
    "    crossover_point = random.randint(1, len(parent1) - 1)\n",
    "    child1 = parent1[:crossover_point] + parent2[crossover_point:]\n",
    "    child2 = parent2[:crossover_point] + parent1[crossover_point:]\n",
    "    return child1, child2\n",
    "\n",
    "def bit_flip_mutation(bitstring, mutation_rate):\n",
    "    mutated = list(bitstring)\n",
    "    for i in range(len(mutated)):\n",
    "        if random.random() < mutation_rate:\n",
    "            mutated[i] = int(not mutated[i])\n",
    "    return mutated\n",
    "\n",
    "def genetic_algorithm(problem_size, population_size, generations, tournament_size, crossover_rate, mutation_rate):\n",
    "    population = [random_bitstring(problem_size) for _ in range(population_size)]\n",
    "    fitnesses = [calc_fitness(bitstring) for bitstring in population]\n",
    "\n",
    "    for generation in range(generations):\n",
    "        new_population = []\n",
    "\n",
    "        for _ in range(population_size//2):\n",
    "            parent1 = tournament_selection(population, fitnesses, tournament_size)\n",
    "            parent2 = tournament_selection(population, fitnesses, tournament_size)\n",
    "\n",
    "            if random.random() < crossover_rate:\n",
    "                child1, child2 = single_point_crossover(parent1, parent2)\n",
    "            else:\n",
    "                child1, child2 = parent1, parent2\n",
    "\n",
    "            child1 = bit_flip_mutation(child1, mutation_rate)\n",
    "            child2 = bit_flip_mutation(child2, mutation_rate)\n",
    "\n",
    "            new_population.append(child1)\n",
    "            new_population.append(child2)\n",
    "\n",
    "        population = new_population\n",
    "        fitnesses = [calc_fitness(bitstring) for bitstring in population]\n",
    "\n",
    "    return max(fitnesses)\n",
    "\n",
    "# Testing on 4-peaks problem\n",
    "problem_size = 10\n",
    "population_size = 100\n",
    "generations = 100\n",
    "tournament_size = 5\n",
    "crossover_rate = 0.9\n",
    "mutation_rate = 1.0/problem_size\n",
    "\n",
    "fitness = genetic_algorithm(problem_size, population_size, generations, tournament_size, crossover_rate, mutation_rate)\n",
    "\n",
    "print(\"Fitness score: \", fitness)\n"
   ]
  },
  {
   "cell_type": "markdown",
   "id": "5e76eb02",
   "metadata": {},
   "source": [
    "### 4-peaks optimization problem: Fitness vs  Bit Length"
   ]
  },
  {
   "cell_type": "code",
   "execution_count": 46,
   "id": "fc0c9a4d",
   "metadata": {},
   "outputs": [
    {
     "name": "stdout",
     "output_type": "stream",
     "text": [
      "Fitness:  5\n",
      "\n",
      "Fitness:  15\n",
      "\n",
      "Fitness:  13\n",
      "\n",
      "Fitness:  17\n",
      "\n",
      "Fitness:  23\n",
      "\n",
      "Fitness:  27\n",
      "\n",
      "Fitness:  31\n",
      "\n",
      "Fitness:  34\n",
      "\n",
      "Fitness:  40\n",
      "\n",
      "Fitness:  41\n",
      "\n"
     ]
    },
    {
     "data": {
      "image/png": "[encoded data removed]",
      "text/plain": [
       "<Figure size 576x432 with 1 Axes>"
      ]
     },
     "metadata": {
      "needs_background": "light"
     },
     "output_type": "display_data"
    }
   ],
   "source": [
    "total_fitness=[]\n",
    "\n",
    "for bit_string_length in range(5,100,10):\n",
    "    \n",
    "    fitness = genetic_algorithm(bit_string_length, population_size, generations, tournament_size, crossover_rate, mutation_rate)\n",
    "    total_fitness.append([bit_string_length,fitness])\n",
    "    #print(\"Optimal Bit String: \", bit_string)\n",
    "    print(\"Fitness: \", fitness)\n",
    "    print()\n",
    "    \n",
    "total_fitness=np.array(total_fitness)\n",
    "\n",
    "\n",
    "plt.figure(figsize=(8, 6))\n",
    "sns.lineplot(x=total_fitness[:,0], y=total_fitness[:,1])\n",
    "# Set plot title and axis labels\n",
    "plt.title('Total Bit Length vs Fitness ')\n",
    "plt.xlabel('Total Bit Length')\n",
    "plt.ylabel('Fitness')\n",
    "# Display plot\n",
    "plt.show()"
   ]
  },
  {
   "cell_type": "markdown",
   "id": "14f674e6",
   "metadata": {},
   "source": [
    "### 4-peaks optimization problem: population_size vs  Bit Length"
   ]
  },
  {
   "cell_type": "code",
   "execution_count": 47,
   "id": "f4aebe93",
   "metadata": {},
   "outputs": [
    {
     "name": "stdout",
     "output_type": "stream",
     "text": [
      "Fitness:  48\n",
      "\n",
      "Fitness:  47\n",
      "\n",
      "Fitness:  48\n",
      "\n",
      "Fitness:  48\n",
      "\n",
      "Fitness:  48\n",
      "\n",
      "Fitness:  48\n",
      "\n"
     ]
    },
    {
     "data": {
      "image/png": "[encoded data removed]",
      "text/plain": [
       "<Figure size 576x432 with 1 Axes>"
      ]
     },
     "metadata": {
      "needs_background": "light"
     },
     "output_type": "display_data"
    }
   ],
   "source": [
    "total_fitness=[]\n",
    "\n",
    "for population_size in range(10,500,90):\n",
    "    \n",
    "    problem_size = 50\n",
    "    generations = 100\n",
    "    tournament_size = 5\n",
    "    crossover_rate = 0.9\n",
    "    mutation_rate = 1.0/problem_size\n",
    "    \n",
    "    \n",
    "    fitness = genetic_algorithm(bit_string_length, population_size, generations, tournament_size, crossover_rate, mutation_rate)\n",
    "    total_fitness.append([population_size,fitness])\n",
    "    #print(\"Optimal Bit String: \", bit_string)\n",
    "    print(\"Fitness: \", fitness)\n",
    "    print()\n",
    "    \n",
    "total_fitness=np.array(total_fitness)\n",
    "\n",
    "\n",
    "plt.figure(figsize=(8, 6))\n",
    "sns.lineplot(x=total_fitness[:,0], y=total_fitness[:,1])\n",
    "# Set plot title and axis labels\n",
    "plt.title('population_size vs Fitness ')\n",
    "plt.xlabel('population_size Length')\n",
    "plt.ylabel('Fitness')\n",
    "# Display plot\n",
    "plt.show()"
   ]
  },
  {
   "cell_type": "code",
   "execution_count": 50,
   "id": "12e92b25",
   "metadata": {},
   "outputs": [
    {
     "name": "stdout",
     "output_type": "stream",
     "text": [
      "Fitness:  25\n",
      "\n",
      "Fitness:  25\n",
      "\n",
      "Fitness:  25\n",
      "\n",
      "Fitness:  25\n",
      "\n",
      "Fitness:  25\n",
      "\n",
      "Fitness:  25\n",
      "\n",
      "Fitness:  25\n",
      "\n",
      "Fitness:  25\n",
      "\n",
      "Fitness:  25\n",
      "\n"
     ]
    },
    {
     "data": {
      "image/png": "[encoded data removed]",
      "text/plain": [
       "<Figure size 576x432 with 1 Axes>"
      ]
     },
     "metadata": {
      "needs_background": "light"
     },
     "output_type": "display_data"
    }
   ],
   "source": [
    "total_fitness=[]\n",
    "bit_string_length=50\n",
    "problem_size = 10\n",
    "population_size = 100\n",
    "\n",
    "\n",
    "for factor in range(10,100,10):\n",
    "    factor=factor/100\n",
    "    problem_size = 50\n",
    "    population_size = 100\n",
    "    generations = 100\n",
    "    tournament_size = 5\n",
    "    crossover_rate = 0.9\n",
    "    mutation_rate = factor*(1.0/problem_size)\n",
    "    fitness = genetic_algorithm(bit_string_length, population_size, generations, tournament_size, crossover_rate, mutation_rate)\n",
    "    total_fitness.append([fitness,mutation_rate])\n",
    "    #print(\"Optimal Bit String: \", bit_string)\n",
    "    print(\"Fitness: \", fitness)\n",
    "    print()\n",
    "    \n",
    "total_fitness=np.array(total_fitness)\n",
    "\n",
    "\n",
    "plt.figure(figsize=(8, 6))\n",
    "sns.lineplot(x=total_fitness[:,0], y=total_fitness[:,1])\n",
    "# Set plot title and axis labels\n",
    "plt.title('mutation_rate vs Fitness ')\n",
    "plt.xlabel('mutation_rate')\n",
    "plt.ylabel('Fitness')\n",
    "# Display plot\n",
    "plt.show()"
   ]
  },
  {
   "cell_type": "code",
   "execution_count": null,
   "id": "fbee5ff0",
   "metadata": {},
   "outputs": [],
   "source": []
  },
  {
   "cell_type": "markdown",
   "id": "bb5d63d9",
   "metadata": {},
   "source": [
    "## MIMIC"
   ]
  },
  {
   "cell_type": "markdown",
   "id": "6fe677c8",
   "metadata": {},
   "source": [
    "### MaxKColor"
   ]
  },
  {
   "cell_type": "code",
   "execution_count": 44,
   "id": "73a75f80",
   "metadata": {},
   "outputs": [
    {
     "name": "stdout",
     "output_type": "stream",
     "text": [
      "length  5\n",
      "fitness  (array([0, 0, 0, 0, 0]), 6.0)\n",
      "\n",
      "length  10\n",
      "fitness  (array([1, 1, 1, 1, 1, 0, 0, 1, 0, 1]), 6.0)\n",
      "\n",
      "length  15\n",
      "fitness  (array([1, 1, 1, 1, 1, 0, 1, 0, 1, 1, 0, 1, 1, 1, 1]), 6.0)\n",
      "\n",
      "length  20\n",
      "fitness  (array([0, 0, 0, 0, 0, 0, 0, 1, 0, 0, 0, 1, 1, 0, 0, 1, 0, 0, 1, 1]), 6.0)\n",
      "\n",
      "length  25\n",
      "fitness  (array([1, 1, 1, 1, 1, 1, 1, 0, 1, 1, 1, 1, 0, 1, 1, 0, 1, 1, 0, 1, 1, 1,\n",
      "       1, 0, 0]), 6.0)\n",
      "\n",
      "length  30\n",
      "fitness  (array([1, 1, 1, 1, 1, 1, 1, 1, 1, 1, 0, 1, 0, 0, 1, 0, 0, 1, 0, 1, 0, 1,\n",
      "       1, 0, 1, 1, 1, 1, 0, 0]), 6.0)\n",
      "\n",
      "length  35\n",
      "fitness  (array([1, 1, 1, 1, 1, 0, 0, 0, 1, 0, 0, 1, 1, 0, 0, 0, 0, 1, 1, 1, 0, 1,\n",
      "       0, 1, 1, 1, 0, 0, 1, 0, 0, 0, 1, 0, 0]), 6.0)\n",
      "\n",
      "length  40\n",
      "fitness  (array([1, 1, 1, 1, 1, 1, 0, 1, 0, 1, 1, 0, 0, 0, 1, 0, 1, 1, 1, 1, 1, 1,\n",
      "       0, 0, 1, 0, 0, 0, 1, 1, 0, 0, 0, 1, 0, 0, 0, 1, 1, 1]), 6.0)\n",
      "\n",
      "length  45\n",
      "fitness  (array([0, 0, 0, 0, 0, 0, 1, 0, 1, 0, 0, 0, 0, 1, 1, 1, 0, 0, 0, 1, 1, 0,\n",
      "       0, 0, 1, 0, 0, 0, 1, 1, 0, 0, 0, 1, 1, 1, 1, 1, 0, 0, 1, 0, 0, 1,\n",
      "       0]), 6.0)\n",
      "\n"
     ]
    },
    {
     "data": {
      "image/png": "[encoded data removed]",
      "text/plain": [
       "<Figure size 576x432 with 1 Axes>"
      ]
     },
     "metadata": {
      "needs_background": "light"
     },
     "output_type": "display_data"
    }
   ],
   "source": [
    "edges = [(0, 1), (0, 2), (0, 4), (1, 3), (2, 0), (2, 3), (3, 4)]\n",
    "fitness = mlrose.MaxKColor(edges)\n",
    "fitness_list=[]\n",
    "for length in range(5,50,5):\n",
    "    print(\"length \",length)\n",
    "    problem = mlrose.DiscreteOpt(length = length, fitness_fn = fitness)\n",
    "    fit_=mlrose.mimic(problem)\n",
    "    print(\"fitness \",fit_)\n",
    "    fitness_list.append(fit_[-1])\n",
    "    \n",
    "    print()\n",
    "    \n",
    "    \n",
    "\n",
    "plt.figure(figsize=(8, 6))\n",
    "sns.lineplot(x=range(5,50,5), y=fitness_list)\n",
    "# Set plot title and axis labels\n",
    "plt.title('length vs Fitness ')\n",
    "plt.xlabel(' Length')\n",
    "plt.ylabel('Fitness')\n",
    "# Display plot\n",
    "plt.show()"
   ]
  },
  {
   "cell_type": "markdown",
   "id": "e64ec7a9",
   "metadata": {},
   "source": [
    "### FourPeaks"
   ]
  },
  {
   "cell_type": "code",
   "execution_count": 45,
   "id": "0d83ebe5",
   "metadata": {},
   "outputs": [
    {
     "name": "stdout",
     "output_type": "stream",
     "text": [
      "length  5\n",
      "fitness  (array([1, 1, 1, 1, 1]), 6.0)\n",
      "\n",
      "length  10\n",
      "fitness  (array([1, 1, 1, 1, 1, 0, 0, 1, 0, 1]), 6.0)\n",
      "\n",
      "length  15\n",
      "fitness  (array([1, 1, 1, 1, 1, 0, 0, 0, 0, 1, 0, 1, 1, 0, 1]), 6.0)\n",
      "\n",
      "length  20\n",
      "fitness  (array([0, 0, 0, 0, 0, 1, 0, 0, 1, 1, 0, 1, 0, 0, 0, 1, 0, 0, 0, 1]), 6.0)\n",
      "\n",
      "length  25\n",
      "fitness  (array([0, 0, 0, 0, 0, 1, 0, 0, 1, 0, 1, 0, 1, 1, 1, 0, 0, 0, 1, 0, 1, 1,\n",
      "       0, 0, 0]), 6.0)\n",
      "\n",
      "length  30\n",
      "fitness  (array([1, 1, 1, 1, 1, 0, 0, 0, 0, 1, 1, 0, 1, 1, 1, 1, 0, 0, 1, 0, 0, 0,\n",
      "       1, 0, 0, 1, 0, 0, 1, 0]), 6.0)\n",
      "\n",
      "length  35\n",
      "fitness  (array([1, 1, 1, 1, 1, 1, 1, 1, 0, 1, 0, 1, 1, 1, 1, 0, 1, 1, 1, 0, 0, 0,\n",
      "       0, 1, 0, 0, 1, 0, 0, 0, 0, 1, 0, 0, 1]), 6.0)\n",
      "\n",
      "length  40\n",
      "fitness  (array([1, 1, 1, 1, 1, 1, 0, 0, 0, 0, 1, 0, 0, 0, 1, 0, 1, 1, 1, 0, 1, 0,\n",
      "       1, 1, 0, 1, 0, 1, 1, 0, 0, 1, 0, 1, 1, 0, 0, 0, 1, 0]), 6.0)\n",
      "\n",
      "length  45\n",
      "fitness  (array([0, 0, 0, 0, 0, 1, 1, 0, 1, 0, 1, 1, 1, 1, 1, 1, 1, 0, 1, 0, 0, 0,\n",
      "       1, 1, 0, 1, 1, 1, 0, 0, 1, 1, 0, 0, 1, 1, 0, 0, 1, 1, 1, 0, 0, 0,\n",
      "       0]), 6.0)\n",
      "\n"
     ]
    },
    {
     "data": {
      "image/png": "[encoded data removed]",
      "text/plain": [
       "<Figure size 576x432 with 1 Axes>"
      ]
     },
     "metadata": {
      "needs_background": "light"
     },
     "output_type": "display_data"
    }
   ],
   "source": [
    "fitness = mlrose.FourPeaks(t_pct=0.15)\n",
    "\n",
    "\n",
    "edges = [(0, 1), (0, 2), (0, 4), (1, 3), (2, 0), (2, 3), (3, 4)]\n",
    "fitness = mlrose.MaxKColor(edges)\n",
    "fitness_list=[]\n",
    "for length in range(5,50,5):\n",
    "    print(\"length \",length)\n",
    "    problem = mlrose.DiscreteOpt(length = length, fitness_fn = fitness)\n",
    "    fit_=mlrose.mimic(problem)\n",
    "    print(\"fitness \",fit_)\n",
    "    fitness_list.append(fit_[-1])\n",
    "    \n",
    "    print()\n",
    "    \n",
    "    \n",
    "\n",
    "plt.figure(figsize=(8, 6))\n",
    "sns.lineplot(x=range(5,50,5), y=fitness_list)\n",
    "# Set plot title and axis labels\n",
    "plt.title('length vs Fitness ')\n",
    "plt.xlabel(' Length')\n",
    "plt.ylabel('Fitness')\n",
    "# Display plot\n",
    "plt.show()\n",
    "\n",
    "\n",
    "\n",
    "\n",
    "\n",
    "\n",
    "\n"
   ]
  },
  {
   "cell_type": "markdown",
   "id": "0692714c",
   "metadata": {},
   "source": [
    "### OneMax"
   ]
  },
  {
   "cell_type": "code",
   "execution_count": 51,
   "id": "7727c9c1",
   "metadata": {},
   "outputs": [
    {
     "name": "stdout",
     "output_type": "stream",
     "text": [
      "length  5\n",
      "fitness  (array([1, 1, 1, 1, 1]), 6.0)\n",
      "\n",
      "length  10\n",
      "fitness  (array([0, 0, 0, 0, 0, 1, 0, 1, 1, 1]), 6.0)\n",
      "\n",
      "length  15\n",
      "fitness  (array([0, 0, 0, 0, 0, 1, 0, 1, 0, 1, 0, 0, 0, 1, 1]), 6.0)\n",
      "\n",
      "length  20\n",
      "fitness  (array([0, 0, 0, 0, 0, 0, 1, 1, 1, 0, 0, 1, 1, 0, 0, 0, 0, 1, 0, 0]), 6.0)\n",
      "\n",
      "length  25\n",
      "fitness  (array([1, 1, 1, 1, 1, 1, 1, 1, 0, 0, 1, 0, 1, 1, 0, 1, 1, 0, 1, 1, 1, 0,\n",
      "       1, 1, 1]), 6.0)\n",
      "\n",
      "length  30\n",
      "fitness  (array([1, 1, 1, 1, 1, 1, 1, 0, 0, 0, 1, 0, 0, 1, 1, 0, 1, 1, 0, 1, 0, 1,\n",
      "       1, 0, 0, 1, 1, 0, 1, 0]), 6.0)\n",
      "\n",
      "length  35\n",
      "fitness  (array([1, 1, 1, 1, 1, 1, 0, 1, 0, 1, 0, 0, 1, 1, 0, 1, 0, 1, 1, 0, 0, 1,\n",
      "       0, 1, 0, 1, 0, 1, 0, 1, 1, 0, 0, 0, 1]), 6.0)\n",
      "\n",
      "length  40\n",
      "fitness  (array([0, 0, 0, 0, 0, 0, 0, 0, 1, 1, 1, 1, 0, 1, 1, 1, 1, 1, 0, 1, 1, 0,\n",
      "       0, 0, 1, 0, 1, 1, 1, 0, 0, 0, 1, 1, 0, 1, 1, 1, 0, 1]), 6.0)\n",
      "\n",
      "length  45\n",
      "fitness  (array([1, 1, 1, 1, 1, 1, 0, 1, 1, 1, 0, 0, 1, 1, 1, 1, 0, 1, 0, 0, 1, 1,\n",
      "       1, 1, 0, 0, 0, 0, 0, 1, 1, 1, 1, 1, 1, 1, 1, 1, 1, 0, 0, 1, 1, 1,\n",
      "       0]), 6.0)\n",
      "\n"
     ]
    },
    {
     "data": {
      "image/png": "[encoded data removed]",
      "text/plain": [
       "<Figure size 576x432 with 1 Axes>"
      ]
     },
     "metadata": {
      "needs_background": "light"
     },
     "output_type": "display_data"
    }
   ],
   "source": [
    "fitness = mlrose.OneMax()\n",
    "\n",
    "\n",
    "edges = [(0, 1), (0, 2), (0, 4), (1, 3), (2, 0), (2, 3), (3, 4)]\n",
    "fitness = mlrose.MaxKColor(edges)\n",
    "fitness_list=[]\n",
    "for length in range(5,50,5):\n",
    "    print(\"length \",length)\n",
    "    problem = mlrose.DiscreteOpt(length = length, fitness_fn = fitness)\n",
    "    fit_=mlrose.mimic(problem)\n",
    "    print(\"fitness \",fit_)\n",
    "    fitness_list.append(fit_[-1])\n",
    "    \n",
    "    print()\n",
    "    \n",
    "    \n",
    "\n",
    "plt.figure(figsize=(8, 6))\n",
    "sns.lineplot(x=range(5,50,5), y=fitness_list)\n",
    "# Set plot title and axis labels\n",
    "plt.title('length vs Fitness ')\n",
    "plt.xlabel(' Length')\n",
    "plt.ylabel('Fitness')\n",
    "# Display plot\n",
    "plt.show()\n",
    "\n",
    "\n",
    "\n",
    "\n",
    "\n"
   ]
  },
  {
   "cell_type": "markdown",
   "id": "76fb1775",
   "metadata": {},
   "source": [
    "### One Max"
   ]
  },
  {
   "cell_type": "code",
   "execution_count": 51,
   "id": "ffc07f30",
   "metadata": {},
   "outputs": [
    {
     "name": "stdout",
     "output_type": "stream",
     "text": [
      "Iteration 1, Best Fitness: 32\n",
      "Iteration 2, Best Fitness: 32\n",
      "Iteration 3, Best Fitness: 32\n",
      "Iteration 4, Best Fitness: 31\n",
      "Iteration 5, Best Fitness: 31\n",
      "Iteration 6, Best Fitness: 32\n",
      "Iteration 7, Best Fitness: 32\n",
      "Iteration 8, Best Fitness: 33\n",
      "Iteration 9, Best Fitness: 34\n",
      "Iteration 10, Best Fitness: 33\n",
      "Iteration 11, Best Fitness: 33\n",
      "Iteration 12, Best Fitness: 32\n",
      "Iteration 13, Best Fitness: 32\n",
      "Iteration 14, Best Fitness: 35\n",
      "Iteration 15, Best Fitness: 35\n",
      "Iteration 16, Best Fitness: 33\n",
      "Iteration 17, Best Fitness: 29\n",
      "Iteration 18, Best Fitness: 29\n",
      "Iteration 19, Best Fitness: 29\n",
      "Iteration 20, Best Fitness: 30\n",
      "Iteration 21, Best Fitness: 30\n",
      "Iteration 22, Best Fitness: 30\n",
      "Iteration 23, Best Fitness: 30\n",
      "Iteration 24, Best Fitness: 30\n",
      "Iteration 25, Best Fitness: 30\n",
      "Iteration 26, Best Fitness: 30\n",
      "Iteration 27, Best Fitness: 29\n",
      "Iteration 28, Best Fitness: 30\n",
      "Iteration 29, Best Fitness: 29\n",
      "Iteration 30, Best Fitness: 28\n",
      "Iteration 31, Best Fitness: 28\n",
      "Iteration 32, Best Fitness: 28\n",
      "Iteration 33, Best Fitness: 27\n",
      "Iteration 34, Best Fitness: 26\n",
      "Iteration 35, Best Fitness: 26\n",
      "Iteration 36, Best Fitness: 28\n",
      "Iteration 37, Best Fitness: 27\n",
      "Iteration 38, Best Fitness: 28\n",
      "Iteration 39, Best Fitness: 28\n",
      "Iteration 40, Best Fitness: 28\n",
      "Iteration 41, Best Fitness: 29\n",
      "Iteration 42, Best Fitness: 29\n",
      "Iteration 43, Best Fitness: 28\n",
      "Iteration 44, Best Fitness: 29\n",
      "Iteration 45, Best Fitness: 29\n",
      "Iteration 46, Best Fitness: 29\n",
      "Iteration 47, Best Fitness: 28\n",
      "Iteration 48, Best Fitness: 28\n",
      "Iteration 49, Best Fitness: 29\n",
      "Iteration 50, Best Fitness: 29\n"
     ]
    }
   ],
   "source": [
    "import random\n",
    "import numpy as np\n",
    "\n",
    "def one_max_fitness(x):\n",
    "    return sum(x)\n",
    "\n",
    "def generate_population(size, length):\n",
    "    return [np.random.randint(0, 2, size=length) for _ in range(size)]\n",
    "\n",
    "def select(population, fitness_fn, num_parents):\n",
    "    parents = []\n",
    "    for _ in range(num_parents):\n",
    "        fitnesses = [fitness_fn(x) for x in population]\n",
    "        idx = np.random.choice(len(population), p=fitnesses/sum(fitnesses))\n",
    "        parents.append(population[idx])\n",
    "    return parents\n",
    "\n",
    "def crossover(parents, crossover_prob):\n",
    "    children = []\n",
    "    for i in range(0, len(parents), 2):\n",
    "        parent1 = parents[i]\n",
    "        parent2 = parents[i+1]\n",
    "        if random.random() < crossover_prob:\n",
    "            crossover_point = random.randint(1, len(parent1) - 1)\n",
    "            child1 = np.concatenate([parent1[:crossover_point], parent2[crossover_point:]])\n",
    "            child2 = np.concatenate([parent2[:crossover_point], parent1[crossover_point:]])\n",
    "            children.append(child1)\n",
    "            children.append(child2)\n",
    "        else:\n",
    "            children.append(parent1)\n",
    "            children.append(parent2)\n",
    "    return children\n",
    "\n",
    "def mutate(children, mutation_prob):\n",
    "    for i in range(len(children)):\n",
    "        for j in range(len(children[i])):\n",
    "            if random.random() < mutation_prob:\n",
    "                children[i][j] = 1 - children[i][j]\n",
    "    return children\n",
    "\n",
    "def mimic(fitness_fn, length, pop_size, num_parents, crossover_prob, mutation_prob, num_iters):\n",
    "    population = generate_population(pop_size, length)\n",
    "    for i in range(num_iters):\n",
    "        parents = select(population, fitness_fn, num_parents)\n",
    "        children = crossover(parents, crossover_prob)\n",
    "        children = mutate(children, mutation_prob)\n",
    "        population = children\n",
    "        best_fitness = max([fitness_fn(x) for x in population])\n",
    "        print(f\"Iteration {i+1}, Best Fitness: {best_fitness}\")\n",
    "    return population\n",
    "\n",
    "if __name__ == '__main__':\n",
    "    length = 50\n",
    "    pop_size = 100\n",
    "    num_parents = 10\n",
    "    crossover_prob = 0.8\n",
    "    mutation_prob = 0.01\n",
    "    num_iters = 50\n",
    "\n",
    "    population = mimic(one_max_fitness, length, pop_size, num_parents, crossover_prob, mutation_prob, num_iters)\n"
   ]
  },
  {
   "cell_type": "markdown",
   "id": "5daa6212",
   "metadata": {},
   "source": [
    "### Deceptive One Max"
   ]
  },
  {
   "cell_type": "code",
   "execution_count": 52,
   "id": "5446411c",
   "metadata": {},
   "outputs": [],
   "source": [
    "import numpy as np\n",
    "\n",
    "def generate_population(population_size, chromosome_length):\n",
    "    population = np.random.randint(0, 2, size=(population_size, chromosome_length))\n",
    "    return population\n",
    "\n",
    "def calculate_fitness(population):\n",
    "    fitness = np.zeros((population.shape[0],))\n",
    "    for i in range(population.shape[0]):\n",
    "        fitness[i] = np.sum(population[i])\n",
    "    return fitness\n",
    "\n",
    "def select_population(population, fitness, percentile):\n",
    "    fitness_threshold = np.percentile(fitness, percentile)\n",
    "    selected_indices = np.where(fitness >= fitness_threshold)[0]\n",
    "    selected_population = population[selected_indices]\n",
    "    return selected_population\n",
    "\n",
    "def get_mutated_population(selected_population):\n",
    "    mutated_population = selected_population.copy()\n",
    "    for i in range(mutated_population.shape[0]):\n",
    "        index = np.random.randint(0, mutated_population.shape[1])\n",
    "        mutated_population[i][index] = 1 - mutated_population[i][index]\n",
    "    return mutated_population\n",
    "\n",
    "def mimic(population_size, chromosome_length, percentile, max_iterations):\n",
    "    population = generate_population(population_size, chromosome_length)\n",
    "    iteration = 0\n",
    "    best_fitness = 0\n",
    "    while iteration < max_iterations:\n",
    "        fitness = calculate_fitness(population)\n",
    "        selected_population = select_population(population, fitness, percentile)\n",
    "        mutated_population = get_mutated_population(selected_population)\n",
    "        population = np.vstack((selected_population, mutated_population))\n",
    "        iteration += 1\n",
    "        best_fitness = max(best_fitness, np.max(fitness))\n",
    "        print(\"Iteration:\", iteration, \"Best Fitness:\", best_fitness)\n",
    "    return best_fitness\n"
   ]
  },
  {
   "cell_type": "code",
   "execution_count": null,
   "id": "1a044a3f",
   "metadata": {},
   "outputs": [
    {
     "name": "stdout",
     "output_type": "stream",
     "text": [
      "Iteration: 1 Best Fitness: 31.0\n",
      "Iteration: 2 Best Fitness: 32.0\n",
      "Iteration: 3 Best Fitness: 32.0\n",
      "Iteration: 4 Best Fitness: 32.0\n",
      "Iteration: 5 Best Fitness: 33.0\n",
      "Iteration: 6 Best Fitness: 33.0\n",
      "Iteration: 7 Best Fitness: 34.0\n",
      "Iteration: 8 Best Fitness: 34.0\n",
      "Iteration: 9 Best Fitness: 35.0\n",
      "Iteration: 10 Best Fitness: 36.0\n",
      "Iteration: 11 Best Fitness: 37.0\n",
      "Iteration: 12 Best Fitness: 37.0\n",
      "Iteration: 13 Best Fitness: 37.0\n",
      "Iteration: 14 Best Fitness: 38.0\n",
      "Iteration: 15 Best Fitness: 38.0\n",
      "Iteration: 16 Best Fitness: 39.0\n",
      "Iteration: 17 Best Fitness: 39.0\n",
      "Iteration: 18 Best Fitness: 40.0\n",
      "Iteration: 19 Best Fitness: 40.0\n",
      "Iteration: 20 Best Fitness: 40.0\n",
      "Iteration: 21 Best Fitness: 41.0\n",
      "Iteration: 22 Best Fitness: 41.0\n",
      "Iteration: 23 Best Fitness: 42.0\n",
      "Iteration: 24 Best Fitness: 43.0\n",
      "Iteration: 25 Best Fitness: 43.0\n",
      "Iteration: 26 Best Fitness: 44.0\n",
      "Iteration: 27 Best Fitness: 44.0\n",
      "Iteration: 28 Best Fitness: 44.0\n",
      "Iteration: 29 Best Fitness: 45.0\n",
      "Iteration: 30 Best Fitness: 45.0\n",
      "Iteration: 31 Best Fitness: 46.0\n",
      "Iteration: 32 Best Fitness: 46.0\n",
      "Iteration: 33 Best Fitness: 46.0\n",
      "Iteration: 34 Best Fitness: 46.0\n",
      "Iteration: 35 Best Fitness: 47.0\n"
     ]
    }
   ],
   "source": [
    "best_fitness = mimic(population_size=100, chromosome_length=50, percentile=50, max_iterations=50)\n",
    "print(\"Best Fitness:\", best_fitness)\n"
   ]
  },
  {
   "cell_type": "markdown",
   "id": "4cdb64a0",
   "metadata": {},
   "source": [
    "## Heart Disease Dataset"
   ]
  },
  {
   "cell_type": "code",
   "execution_count": 65,
   "id": "d65e5c44",
   "metadata": {},
   "outputs": [],
   "source": [
    "from sklearn.model_selection import train_test_split\n",
    "from sklearn.metrics import accuracy_score"
   ]
  },
  {
   "cell_type": "code",
   "execution_count": 66,
   "id": "9db28d42",
   "metadata": {},
   "outputs": [],
   "source": [
    "df = pd.read_csv('heart.csv')\n",
    "X,y=np.array(df[df.columns[:-1]]),np.array(df[df.columns[-1]])\n",
    "\n",
    "X_train, X_test, y_train, y_test = train_test_split(X, y, test_size = .20)\n",
    "\n",
    "# Scaling the data\n",
    "scaler = StandardScaler()\n",
    "X_train = scaler.fit_transform(X_train)\n",
    "X_test = scaler.transform(X_test)\n",
    "\n"
   ]
  },
  {
   "cell_type": "markdown",
   "id": "07a2f5d3",
   "metadata": {},
   "source": [
    "## random_hill_climb"
   ]
  },
  {
   "cell_type": "markdown",
   "id": "8835747d",
   "metadata": {},
   "source": [
    "###  random_hill_climb by varying learning rate "
   ]
  },
  {
   "cell_type": "code",
   "execution_count": 67,
   "id": "f6ab760a",
   "metadata": {},
   "outputs": [
    {
     "name": "stdout",
     "output_type": "stream",
     "text": [
      "y_train_accuracy 36.77685950413223\n",
      "y_test_accuracy 32.78688524590164\n",
      "loss 0.8068315068427148\n"
     ]
    }
   ],
   "source": [
    "nn_model1 = mlrose.NeuralNetwork(hidden_nodes = [10], activation =   'sigmoid', \\\n",
    "algorithm = 'random_hill_climb', max_iters = 1000, \n",
    "bias = True, is_classifier = True, learning_rate = 0.0001, \n",
    "early_stopping = True, clip_max = 5, max_attempts =10, random_state = 3)\n",
    "nn_model1.fit(X_train, y_train)\n",
    "\n",
    "y_train_pred = nn_model1.predict(X_train)\n",
    "y_train_accuracy = accuracy_score(y_train, y_train_pred)\n",
    "print(\"y_train_accuracy\",y_train_accuracy*100)\n",
    "# Predict labels for test set and assess accuracy\n",
    "y_test_pred = nn_model1.predict(X_test)\n",
    "y_test_accuracy = accuracy_score(y_test, y_test_pred)\n",
    "print(\"y_test_accuracy\",y_test_accuracy*100)\n",
    "\n",
    "print(\"loss\",nn_model1.loss)\n"
   ]
  },
  {
   "cell_type": "code",
   "execution_count": 68,
   "id": "9fd31637",
   "metadata": {},
   "outputs": [
    {
     "name": "stdout",
     "output_type": "stream",
     "text": [
      "learning rate  0.001\n",
      "y_test_accuracy 44\n",
      "loss 0.7632162746610691\n",
      "learning rate  0.01\n",
      "y_test_accuracy 44\n",
      "loss 0.7529039923115495\n",
      "learning rate  1\n",
      "y_test_accuracy 79\n",
      "loss 0.5867853156119994\n",
      "learning rate  2\n",
      "y_test_accuracy 79\n",
      "loss 0.639419636105621\n",
      "learning rate  5\n",
      "y_test_accuracy 82\n",
      "loss 0.5655389913807076\n",
      "learning rate  10\n",
      "y_test_accuracy 84\n",
      "loss 0.5766565613113709\n"
     ]
    },
    {
     "data": {
      "image/png": "[encoded data removed]",
      "text/plain": [
       "<Figure size 576x432 with 1 Axes>"
      ]
     },
     "metadata": {
      "needs_background": "light"
     },
     "output_type": "display_data"
    },
    {
     "data": {
      "image/png": "[encoded data removed]",
      "text/plain": [
       "<Figure size 576x432 with 1 Axes>"
      ]
     },
     "metadata": {
      "needs_background": "light"
     },
     "output_type": "display_data"
    }
   ],
   "source": [
    "\n",
    "ls_loss_acc=[]\n",
    "\n",
    "for lr in  [0.001,0.01,1,2,5,10]:\n",
    "    print(\"learning rate \",lr)\n",
    "    \n",
    "    nn_model1 = mlrose.NeuralNetwork(hidden_nodes = [10,20,100,10], activation =   'sigmoid', \\\n",
    "    algorithm = 'random_hill_climb', max_iters = 1000, \n",
    "    bias = True, is_classifier = True, learning_rate = lr, \n",
    "    early_stopping = True, clip_max = 5, max_attempts =10, random_state = 3)\n",
    "    nn_model1.fit(X_train, y_train)\n",
    "\n",
    "    y_test_pred = nn_model1.predict(X_test)\n",
    "    y_test_accuracy = accuracy_score(y_test, y_test_pred)\n",
    "    print(\"y_test_accuracy\",round(y_test_accuracy*100))\n",
    "    loss=nn_model1.loss\n",
    "    print(\"loss\",loss)\n",
    "    ls_loss_acc.append([loss,y_test_accuracy])\n",
    "    del nn_model1\n",
    "    \n",
    "ls_loss_acc=np.array(ls_loss_acc)\n",
    "\n",
    "plt.figure(figsize=(8, 6))\n",
    "sns.lineplot(x=[0.001,0.01,1,2,5,10], y=ls_loss_acc[:,0])\n",
    "# Set plot title and axis labels\n",
    "plt.title('learning rate vs Test Accuracy ')\n",
    "plt.xlabel('learning rate')\n",
    "plt.ylabel('Test Accuracy')\n",
    "# Display plot\n",
    "plt.show()\n",
    "\n",
    "\n",
    "plt.figure(figsize=(8, 6))\n",
    "sns.lineplot(x=[0.001,0.01,1,2,5,10], y=ls_loss_acc[:,1])\n",
    "# Set plot title and axis labels\n",
    "plt.title('learning rate vs  Loss ')\n",
    "plt.xlabel('learning rate')\n",
    "plt.ylabel('Loss')\n",
    "# Display plot\n",
    "plt.show()"
   ]
  },
  {
   "cell_type": "markdown",
   "id": "628791cb",
   "metadata": {},
   "source": [
    "## simulated annealing with neural network"
   ]
  },
  {
   "cell_type": "markdown",
   "id": "d8909d21",
   "metadata": {},
   "source": [
    "### simulated annealing by varying learning rate "
   ]
  },
  {
   "cell_type": "code",
   "execution_count": 69,
   "id": "15a5e14f",
   "metadata": {},
   "outputs": [
    {
     "name": "stdout",
     "output_type": "stream",
     "text": [
      "learning rate  0.001\n",
      "y_test_accuracy 44\n",
      "loss 0.7640000060765303\n",
      "learning rate  0.01\n",
      "y_test_accuracy 44\n",
      "loss 0.7600842717689391\n",
      "learning rate  1\n",
      "y_test_accuracy 82\n",
      "loss 0.59839274004706\n",
      "learning rate  2\n",
      "y_test_accuracy 84\n",
      "loss 0.4526251331331122\n",
      "learning rate  5\n",
      "y_test_accuracy 74\n",
      "loss 0.46177903885000277\n",
      "learning rate  10\n",
      "y_test_accuracy 80\n",
      "loss 0.498765073287227\n"
     ]
    },
    {
     "data": {
      "image/png": "[encoded data removed]",
      "text/plain": [
       "<Figure size 576x432 with 1 Axes>"
      ]
     },
     "metadata": {
      "needs_background": "light"
     },
     "output_type": "display_data"
    },
    {
     "data": {
      "image/png": "[encoded data removed]",
      "text/plain": [
       "<Figure size 576x432 with 1 Axes>"
      ]
     },
     "metadata": {
      "needs_background": "light"
     },
     "output_type": "display_data"
    }
   ],
   "source": [
    "\n",
    "ls_loss_acc=[]\n",
    "\n",
    "for lr in  [0.001,0.01,1,2,5,10]:\n",
    "    print(\"learning rate \",lr)\n",
    "    \n",
    "    nn_model1 = mlrose.NeuralNetwork(hidden_nodes = [10,20,100,10], activation =   'sigmoid', \\\n",
    "    algorithm = 'simulated_annealing', max_iters = 1000, \n",
    "    bias = True, is_classifier = True, learning_rate = lr, \n",
    "    early_stopping = True, clip_max = 5, max_attempts =10, random_state = 3)\n",
    "    nn_model1.fit(X_train, y_train)\n",
    "\n",
    "    y_test_pred = nn_model1.predict(X_test)\n",
    "    y_test_accuracy = accuracy_score(y_test, y_test_pred)\n",
    "    print(\"y_test_accuracy\",round(y_test_accuracy*100))\n",
    "    loss=nn_model1.loss\n",
    "    print(\"loss\",loss)\n",
    "    ls_loss_acc.append([loss,y_test_accuracy])\n",
    "    del nn_model1\n",
    "    \n",
    "ls_loss_acc=np.array(ls_loss_acc)\n",
    "\n",
    "plt.figure(figsize=(8, 6))\n",
    "sns.lineplot(x=[0.001,0.01,1,2,5,10], y=ls_loss_acc[:,0])\n",
    "# Set plot title and axis labels\n",
    "plt.title('learning rate vs Test Accuracy ')\n",
    "plt.xlabel('learning rate')\n",
    "plt.ylabel('Test Accuracy')\n",
    "# Display plot\n",
    "plt.show()\n",
    "\n",
    "\n",
    "plt.figure(figsize=(8, 6))\n",
    "sns.lineplot(x=[0.001,0.01,1,2,5,10], y=ls_loss_acc[:,1])\n",
    "# Set plot title and axis labels\n",
    "plt.title('learning rate vs  Loss ')\n",
    "plt.xlabel('learning rate')\n",
    "plt.ylabel('Loss')\n",
    "# Display plot\n",
    "plt.show()"
   ]
  },
  {
   "cell_type": "markdown",
   "id": "403396f6",
   "metadata": {},
   "source": [
    "## Genetic Algorithm with Neural Network"
   ]
  },
  {
   "cell_type": "markdown",
   "id": "373739f0",
   "metadata": {},
   "source": [
    "### Genetic Algorithm by varying learning rate "
   ]
  },
  {
   "cell_type": "code",
   "execution_count": 70,
   "id": "26058785",
   "metadata": {},
   "outputs": [
    {
     "name": "stdout",
     "output_type": "stream",
     "text": [
      "learning rate  0.001\n",
      "y_test_accuracy 79\n",
      "loss 0.7146019561697269\n",
      "learning rate  0.01\n",
      "y_test_accuracy 79\n",
      "loss 0.7146019561697269\n",
      "learning rate  1\n",
      "y_test_accuracy 79\n",
      "loss 0.7146019561697269\n",
      "learning rate  2\n",
      "y_test_accuracy 79\n",
      "loss 0.7146019561697269\n",
      "learning rate  5\n",
      "y_test_accuracy 79\n",
      "loss 0.7146019561697269\n",
      "learning rate  10\n",
      "y_test_accuracy 79\n",
      "loss 0.7146019561697269\n"
     ]
    },
    {
     "data": {
      "image/png": "[encoded data removed]",
      "text/plain": [
       "<Figure size 576x432 with 1 Axes>"
      ]
     },
     "metadata": {
      "needs_background": "light"
     },
     "output_type": "display_data"
    },
    {
     "data": {
      "image/png": "[encoded data removed]",
      "text/plain": [
       "<Figure size 576x432 with 1 Axes>"
      ]
     },
     "metadata": {
      "needs_background": "light"
     },
     "output_type": "display_data"
    }
   ],
   "source": [
    "\n",
    "ls_loss_acc=[]\n",
    "\n",
    "for lr in  [0.001,0.01,1,2,5,10]:\n",
    "    print(\"learning rate \",lr)\n",
    "    \n",
    "    nn_model1 = mlrose.NeuralNetwork(hidden_nodes = [10,20,100,10], activation =   'sigmoid', \\\n",
    "    algorithm = 'genetic_alg', max_iters = 1000, \n",
    "    bias = True, is_classifier = True, learning_rate = lr, \n",
    "    early_stopping = True, clip_max = 5, max_attempts =10, random_state = 3)\n",
    "    nn_model1.fit(X_train, y_train)\n",
    "\n",
    "    y_test_pred = nn_model1.predict(X_test)\n",
    "    y_test_accuracy = accuracy_score(y_test, y_test_pred)\n",
    "    print(\"y_test_accuracy\",round(y_test_accuracy*100))\n",
    "    loss=nn_model1.loss\n",
    "    print(\"loss\",loss)\n",
    "    ls_loss_acc.append([loss,y_test_accuracy])\n",
    "    del nn_model1\n",
    "    \n",
    "ls_loss_acc=np.array(ls_loss_acc)\n",
    "\n",
    "plt.figure(figsize=(8, 6))\n",
    "sns.lineplot(x=[0.001,0.01,1,2,5,10], y=ls_loss_acc[:,0])\n",
    "# Set plot title and axis labels\n",
    "plt.title('learning rate vs Test Accuracy ')\n",
    "plt.xlabel('learning rate')\n",
    "plt.ylabel('Test Accuracy')\n",
    "# Display plot\n",
    "plt.show()\n",
    "\n",
    "\n",
    "plt.figure(figsize=(8, 6))\n",
    "sns.lineplot(x=[0.001,0.01,1,2,5,10], y=ls_loss_acc[:,1])\n",
    "# Set plot title and axis labels\n",
    "plt.title('learning rate vs  Loss ')\n",
    "plt.xlabel('learning rate')\n",
    "plt.ylabel('Loss')\n",
    "# Display plot\n",
    "plt.show()"
   ]
  },
  {
   "cell_type": "markdown",
   "id": "e708fa01",
   "metadata": {},
   "source": [
    "### Genetic Algorithm by varying mutation_prob"
   ]
  },
  {
   "cell_type": "code",
   "execution_count": 71,
   "id": "3584cdb6",
   "metadata": {},
   "outputs": [
    {
     "name": "stdout",
     "output_type": "stream",
     "text": [
      "mutation_prob  10\n",
      "y_test_accuracy 79\n",
      "loss 0.7146019561697269\n",
      "mutation_prob  10\n",
      "y_test_accuracy 70\n",
      "loss 0.672439010197233\n",
      "mutation_prob  10\n",
      "y_test_accuracy 82\n",
      "loss 0.6105800767829405\n",
      "mutation_prob  10\n",
      "y_test_accuracy 61\n",
      "loss 0.6496961965712661\n"
     ]
    },
    {
     "data": {
      "image/png": "[encoded data removed]",
      "text/plain": [
       "<Figure size 576x432 with 1 Axes>"
      ]
     },
     "metadata": {
      "needs_background": "light"
     },
     "output_type": "display_data"
    },
    {
     "data": {
      "image/png": "[encoded data removed]",
      "text/plain": [
       "<Figure size 576x432 with 1 Axes>"
      ]
     },
     "metadata": {
      "needs_background": "light"
     },
     "output_type": "display_data"
    }
   ],
   "source": [
    "\n",
    "ls_loss_acc=[]\n",
    "\n",
    "for mutation_prob in  [0.1,0.2,0.4,0.9]:\n",
    "    print(\"mutation_prob \",lr)\n",
    "    \n",
    "    nn_model1 = mlrose.NeuralNetwork(hidden_nodes = [10,20,100,10], activation =   'sigmoid', \\\n",
    "    algorithm = 'genetic_alg', max_iters = 1000, \n",
    "    bias = True, is_classifier = True, learning_rate = lr, \n",
    "    early_stopping = True, clip_max = 5, max_attempts =10, random_state = 3,mutation_prob=mutation_prob)\n",
    "    nn_model1.fit(X_train, y_train)\n",
    "\n",
    "    y_test_pred = nn_model1.predict(X_test)\n",
    "    y_test_accuracy = accuracy_score(y_test, y_test_pred)\n",
    "    print(\"y_test_accuracy\",round(y_test_accuracy*100))\n",
    "    loss=nn_model1.loss\n",
    "    print(\"loss\",loss)\n",
    "    ls_loss_acc.append([loss,y_test_accuracy])\n",
    "    del nn_model1\n",
    "    \n",
    "ls_loss_acc=np.array(ls_loss_acc)\n",
    "\n",
    "plt.figure(figsize=(8, 6))\n",
    "sns.lineplot(x= [0.1,0.2,0.4,0.9], y=ls_loss_acc[:,0])\n",
    "# Set plot title and axis labels\n",
    "plt.title('mutation_prob vs Test Accuracy ')\n",
    "plt.xlabel('learning rate')\n",
    "plt.ylabel('Test Accuracy')\n",
    "# Display plot\n",
    "plt.show()\n",
    "\n",
    "\n",
    "plt.figure(figsize=(8, 6))\n",
    "sns.lineplot(x= [0.1,0.2,0.4,0.9], y=ls_loss_acc[:,1])\n",
    "# Set plot title and axis labels\n",
    "plt.title('mutation_prob vs  Loss ')\n",
    "plt.xlabel('mutation_prob')\n",
    "plt.ylabel('Loss')\n",
    "# Display plot\n",
    "plt.show()"
   ]
  },
  {
   "cell_type": "markdown",
   "id": "18df9d82",
   "metadata": {},
   "source": [
    "### Genetic Algorithm by varying pop_size"
   ]
  },
  {
   "cell_type": "code",
   "execution_count": 72,
   "id": "8253085d",
   "metadata": {},
   "outputs": [
    {
     "name": "stdout",
     "output_type": "stream",
     "text": [
      "pop_size  10\n",
      "y_test_accuracy 51\n",
      "loss 0.9335244433541786\n",
      "pop_size  10\n",
      "y_test_accuracy 56\n",
      "loss 0.743822976114746\n",
      "pop_size  10\n",
      "y_test_accuracy 67\n",
      "loss 0.6787490614888871\n",
      "pop_size  10\n",
      "y_test_accuracy 66\n",
      "loss 0.6077470936432597\n",
      "pop_size  10\n",
      "y_test_accuracy 66\n",
      "loss 0.634533507145464\n"
     ]
    },
    {
     "data": {
      "image/png": "[encoded data removed]",
      "text/plain": [
       "<Figure size 576x432 with 1 Axes>"
      ]
     },
     "metadata": {
      "needs_background": "light"
     },
     "output_type": "display_data"
    },
    {
     "data": {
      "image/png": "[encoded data removed]",
      "text/plain": [
       "<Figure size 576x432 with 1 Axes>"
      ]
     },
     "metadata": {
      "needs_background": "light"
     },
     "output_type": "display_data"
    }
   ],
   "source": [
    "\n",
    "ls_loss_acc=[]\n",
    "\n",
    "for pop_size in  range(10,500,100):\n",
    "    print(\"pop_size \",lr)\n",
    "    \n",
    "    nn_model1 = mlrose.NeuralNetwork(hidden_nodes = [10,20,100,10], activation =   'sigmoid', \\\n",
    "    algorithm = 'genetic_alg', max_iters = 1000, \n",
    "    bias = True, is_classifier = True, learning_rate = lr, \n",
    "    early_stopping = True, clip_max = 5, max_attempts =10, random_state = 3,pop_size=pop_size)\n",
    "    nn_model1.fit(X_train, y_train)\n",
    "\n",
    "    y_test_pred = nn_model1.predict(X_test)\n",
    "    y_test_accuracy = accuracy_score(y_test, y_test_pred)\n",
    "    print(\"y_test_accuracy\",round(y_test_accuracy*100))\n",
    "    loss=nn_model1.loss\n",
    "    print(\"loss\",loss)\n",
    "    ls_loss_acc.append([loss,y_test_accuracy])\n",
    "    del nn_model1\n",
    "    \n",
    "ls_loss_acc=np.array(ls_loss_acc)\n",
    "\n",
    "plt.figure(figsize=(8, 6))\n",
    "sns.lineplot(x=range(10,500,100), y=ls_loss_acc[:,0])\n",
    "# Set plot title and axis labels\n",
    "plt.title('pop_size vs Test Accuracy ')\n",
    "plt.xlabel('learning rate')\n",
    "plt.ylabel('Test Accuracy')\n",
    "# Display plot\n",
    "plt.show()\n",
    "\n",
    "\n",
    "plt.figure(figsize=(8, 6))\n",
    "sns.lineplot(x=range(10,500,100), y=ls_loss_acc[:,1])\n",
    "# Set plot title and axis labels\n",
    "plt.title('pop_size vs  Loss ')\n",
    "plt.xlabel('mutation_prob')\n",
    "plt.ylabel('Loss')\n",
    "# Display plot\n",
    "plt.show()"
   ]
  },
  {
   "cell_type": "code",
   "execution_count": 73,
   "id": "a632d7c5",
   "metadata": {},
   "outputs": [
    {
     "name": "stderr",
     "output_type": "stream",
     "text": [
      "/home/honyaelfayoumy/anaconda3/lib/python3.9/site-packages/pygad/pygad.py:860: UserWarning: Starting from PyGAD 2.6.0, the callback_generation parameter is deprecated and will be removed in a later release of PyGAD. Please use the on_generation parameter instead.\n",
      "  if not self.suppress_warnings: warnings.warn(\"Starting from PyGAD 2.6.0, the callback_generation parameter is deprecated and will be removed in a later release of PyGAD. Please use the on_generation parameter instead.\")\n"
     ]
    },
    {
     "name": "stdout",
     "output_type": "stream",
     "text": [
      "Generation = 1\n",
      "Accuracy   = 54.45544554455446\n",
      "Generation = 2\n",
      "Accuracy   = 56.43564356435643\n",
      "Generation = 3\n",
      "Accuracy   = 56.43564356435643\n",
      "Generation = 4\n",
      "Accuracy   = 58.08580858085809\n",
      "Generation = 5\n",
      "Accuracy   = 58.08580858085809\n",
      "Generation = 6\n",
      "Accuracy   = 58.08580858085809\n",
      "Generation = 7\n",
      "Accuracy   = 58.08580858085809\n",
      "Generation = 8\n",
      "Accuracy   = 58.08580858085809\n",
      "Generation = 9\n",
      "Accuracy   = 58.08580858085809\n",
      "Generation = 10\n",
      "Accuracy   = 58.415841584158414\n",
      "Generation = 11\n",
      "Accuracy   = 58.415841584158414\n",
      "Generation = 12\n",
      "Accuracy   = 58.415841584158414\n",
      "Generation = 13\n",
      "Accuracy   = 58.415841584158414\n",
      "Generation = 14\n",
      "Accuracy   = 60.726072607260726\n",
      "Generation = 15\n",
      "Accuracy   = 60.726072607260726\n",
      "Generation = 16\n",
      "Accuracy   = 60.726072607260726\n",
      "Generation = 17\n",
      "Accuracy   = 61.05610561056105\n",
      "Generation = 18\n",
      "Accuracy   = 61.05610561056105\n",
      "Generation = 19\n",
      "Accuracy   = 61.05610561056105\n",
      "Generation = 20\n",
      "Accuracy   = 61.05610561056105\n",
      "Generation = 21\n",
      "Accuracy   = 61.05610561056105\n",
      "Generation = 22\n",
      "Accuracy   = 61.05610561056105\n",
      "Generation = 23\n",
      "Accuracy   = 61.386138613861384\n",
      "Generation = 24\n",
      "Accuracy   = 61.386138613861384\n",
      "Generation = 25\n",
      "Accuracy   = 61.71617161716172\n",
      "Generation = 26\n",
      "Accuracy   = 62.04620462046204\n",
      "Generation = 27\n",
      "Accuracy   = 62.70627062706271\n",
      "Generation = 28\n",
      "Accuracy   = 67.32673267326733\n",
      "Generation = 29\n",
      "Accuracy   = 67.32673267326733\n",
      "Generation = 30\n",
      "Accuracy   = 67.32673267326733\n",
      "Generation = 31\n",
      "Accuracy   = 71.61716171617162\n",
      "Generation = 32\n",
      "Accuracy   = 71.61716171617162\n",
      "Generation = 33\n",
      "Accuracy   = 72.27722772277228\n",
      "Generation = 34\n",
      "Accuracy   = 72.27722772277228\n",
      "Generation = 35\n",
      "Accuracy   = 72.27722772277228\n",
      "Generation = 36\n",
      "Accuracy   = 72.27722772277228\n",
      "Generation = 37\n",
      "Accuracy   = 72.27722772277228\n",
      "Generation = 38\n",
      "Accuracy   = 72.27722772277228\n",
      "Generation = 39\n",
      "Accuracy   = 72.27722772277228\n",
      "Generation = 40\n",
      "Accuracy   = 72.27722772277228\n",
      "Generation = 41\n",
      "Accuracy   = 72.27722772277228\n",
      "Generation = 42\n",
      "Accuracy   = 72.27722772277228\n",
      "Generation = 43\n",
      "Accuracy   = 72.27722772277228\n",
      "Generation = 44\n",
      "Accuracy   = 72.27722772277228\n",
      "Generation = 45\n",
      "Accuracy   = 72.27722772277228\n",
      "Generation = 46\n",
      "Accuracy   = 72.27722772277228\n",
      "Generation = 47\n",
      "Accuracy   = 72.27722772277228\n",
      "Generation = 48\n",
      "Accuracy   = 72.27722772277228\n",
      "Generation = 49\n",
      "Accuracy   = 73.26732673267327\n",
      "Generation = 50\n",
      "Accuracy   = 73.26732673267327\n"
     ]
    },
    {
     "name": "stderr",
     "output_type": "stream",
     "text": [
      "/home/honyaelfayoumy/anaconda3/lib/python3.9/site-packages/pygad/pygad.py:3591: UserWarning: Please use the plot_fitness() method instead of plot_result(). The plot_result() method will be removed in the future.\n",
      "  warnings.warn(\"Please use the plot_fitness() method instead of plot_result(). The plot_result() method will be removed in the future.\")\n"
     ]
    },
    {
     "data": {
      "image/png": "[encoded data removed]",
      "text/plain": [
       "<Figure size 432x288 with 1 Axes>"
      ]
     },
     "metadata": {
      "needs_background": "light"
     },
     "output_type": "display_data"
    },
    {
     "name": "stdout",
     "output_type": "stream",
     "text": [
      "[-3.24018265e-01  1.98850686e-01 -3.73561820e-01 -9.14712014e-01\n",
      "  2.30846467e-01  5.30605385e-01  5.19815770e-01 -2.27527152e+00\n",
      "  4.97534493e-03  8.96254761e-02  1.65502684e-02  5.15493659e-02\n",
      " -7.10897919e-04  6.73443616e-01  7.64995999e-01 -3.61611672e-03\n",
      "  8.03972790e-02 -7.24799563e-02 -2.61269403e-01  6.98495189e-02\n",
      " -7.55545498e-02  9.39465311e-01 -8.34638705e-01 -1.10855063e-01\n",
      " -8.11204636e-02  6.32658177e-02  2.22264367e-02  2.14731856e-02\n",
      "  1.15312278e-01 -3.13512445e-02]\n",
      "73.26732673267327\n",
      "0\n"
     ]
    }
   ],
   "source": [
    "import numpy\n",
    "import pygad\n",
    "import pygad.nn\n",
    "import pygad.gann\n",
    "\n",
    "def fitness_func(solution, sol_idx):\n",
    "    global GANN_instance, data_inputs, data_outputs\n",
    "\n",
    "    predictions = pygad.nn.predict(last_layer=GANN_instance.population_networks[sol_idx],\n",
    "                                   data_inputs=data_inputs)\n",
    "    correct_predictions = numpy.where(predictions == data_outputs)[0].size\n",
    "    solution_fitness = (correct_predictions/data_outputs.size)*100\n",
    "\n",
    "    return solution_fitness\n",
    "\n",
    "def callback_generation(ga_instance):\n",
    "    global GANN_instance\n",
    "\n",
    "    population_matrices = pygad.gann.population_as_matrices(population_networks=GANN_instance.population_networks, \n",
    "                                                            population_vectors=ga_instance.population)\n",
    "\n",
    "    GANN_instance.update_population_trained_weights(population_trained_weights=population_matrices)\n",
    "\n",
    "    print(\"Generation = {generation}\".format(generation=ga_instance.generations_completed))\n",
    "    print(\"Accuracy   = {fitness}\".format(fitness=ga_instance.best_solution()[1]))\n",
    "\n",
    "data_inputs = X\n",
    "\n",
    "data_outputs = y\n",
    "\n",
    "GANN_instance = pygad.gann.GANN(num_solutions=5,\n",
    "                                num_neurons_input=13,\n",
    "                                num_neurons_hidden_layers=[2],\n",
    "                                num_neurons_output=2,\n",
    "                                hidden_activations=[\"relu\"],\n",
    "                                output_activation=\"sigmoid\")\n",
    "\n",
    "population_vectors = pygad.gann.population_as_vectors(population_networks=GANN_instance.population_networks)\n",
    "\n",
    "ga_instance = pygad.GA(num_generations=50, \n",
    "                       num_parents_mating=3, \n",
    "                       initial_population=population_vectors.copy(),\n",
    "                       fitness_func=fitness_func,\n",
    "                       mutation_percent_genes=5,\n",
    "                       callback_generation=callback_generation)\n",
    "\n",
    "ga_instance.run()\n",
    "\n",
    "ga_instance.plot_result()\n",
    "\n",
    "solution, solution_fitness, solution_idx = ga_instance.best_solution()\n",
    "print(solution)\n",
    "print(solution_fitness)\n",
    "print(solution_idx)"
   ]
  }
 ],
 "metadata": {
  "kernelspec": {
   "display_name": "Python 3 (ipykernel)",
   "language": "python",
   "name": "python3"
  },
  "language_info": {
   "codemirror_mode": {
    "name": "ipython",
    "version": 3
   },
   "file_extension": ".py",
   "mimetype": "text/x-python",
   "name": "python",
   "nbconvert_exporter": "python",
   "pygments_lexer": "ipython3",
   "version": "3.9.13"
  }
 },
 "nbformat": 4,
 "nbformat_minor": 5
}
